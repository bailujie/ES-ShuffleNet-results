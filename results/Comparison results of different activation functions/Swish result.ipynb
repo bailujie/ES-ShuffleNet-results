{
 "cells": [
  {
   "cell_type": "code",
   "execution_count": 16,
   "metadata": {
    "scrolled": true
   },
   "outputs": [
    {
     "name": "stdout",
     "output_type": "stream",
     "text": [
      "WARNING:tensorflow:From D:\\anaconda\\lib\\site-packages\\tensorflow\\python\\ops\\math_grad.py:1250: add_dispatch_support.<locals>.wrapper (from tensorflow.python.ops.array_ops) is deprecated and will be removed in a future version.\n",
      "Instructions for updating:\n",
      "Use tf.where in 2.0, which has the same broadcast rule as np.where\n",
      "Epoch 1/60\n",
      "   4/1123 [..............................] - ETA: 3:01:53 - loss: 1.9822 - acc: 0.0312    "
     ]
    },
    {
     "name": "stderr",
     "output_type": "stream",
     "text": [
      "D:\\anaconda\\lib\\site-packages\\keras\\callbacks.py:95: RuntimeWarning: Method (on_train_batch_end) is slow compared to the batch update (0.156217). Check your callbacks.\n",
      "  % (hook_name, delta_t_median), RuntimeWarning)\n"
     ]
    },
    {
     "name": "stdout",
     "output_type": "stream",
     "text": [
      "1123/1123 [==============================] - 159s 142ms/step - loss: 1.1014 - acc: 0.5747 - val_loss: 3.2485 - val_acc: 0.32431036 - acc:\n",
      "Epoch 2/60\n",
      "1123/1123 [==============================] - 96s 85ms/step - loss: 0.6439 - acc: 0.7667 - val_loss: 0.4396 - val_acc: 0.8402\n",
      "Epoch 3/60\n",
      "1123/1123 [==============================] - 93s 83ms/step - loss: 0.4501 - acc: 0.8370 - val_loss: 0.2956 - val_acc: 0.9002\n",
      "Epoch 4/60\n",
      "1123/1123 [==============================] - 93s 83ms/step - loss: 0.3458 - acc: 0.8736 - val_loss: 0.2093 - val_acc: 0.9279\n",
      "Epoch 5/60\n",
      "1123/1123 [==============================] - 95s 84ms/step - loss: 0.2798 - acc: 0.9022 - val_loss: 0.3457 - val_acc: 0.8862\n",
      "Epoch 6/60\n",
      "1123/1123 [==============================] - 93s 83ms/step - loss: 0.2247 - acc: 0.9226 - val_loss: 0.2132 - val_acc: 0.9266\n",
      "Epoch 7/60\n",
      "1123/1123 [==============================] - 93s 83ms/step - loss: 0.1864 - acc: 0.9364 - val_loss: 0.1250 - val_acc: 0.9570\n",
      "Epoch 8/60\n",
      "1123/1123 [==============================] - 95s 85ms/step - loss: 0.1615 - acc: 0.9458 - val_loss: 0.2777 - val_acc: 0.9022\n",
      "Epoch 9/60\n",
      "1123/1123 [==============================] - 93s 83ms/step - loss: 0.1419 - acc: 0.9514 - val_loss: 0.0866 - val_acc: 0.9686\n",
      "Epoch 10/60\n",
      "1123/1123 [==============================] - 93s 83ms/step - loss: 0.1197 - acc: 0.9588 - val_loss: 0.1029 - val_acc: 0.9633\n",
      "Epoch 11/60\n",
      "1123/1123 [==============================] - 95s 84ms/step - loss: 0.1150 - acc: 0.9604 - val_loss: 0.0838 - val_acc: 0.9753\n",
      "Epoch 12/60\n",
      "1123/1123 [==============================] - 93s 83ms/step - loss: 0.1026 - acc: 0.9651 - val_loss: 0.0850 - val_acc: 0.9713\n",
      "Epoch 13/60\n",
      "1123/1123 [==============================] - 93s 83ms/step - loss: 0.1017 - acc: 0.9647 - val_loss: 0.0402 - val_acc: 0.9893\n",
      "Epoch 14/60\n",
      "1123/1123 [==============================] - 95s 85ms/step - loss: 0.0911 - acc: 0.9671 - val_loss: 0.0537 - val_acc: 0.9826\n",
      "Epoch 15/60\n",
      "1123/1123 [==============================] - 93s 83ms/step - loss: 0.0840 - acc: 0.9705 - val_loss: 0.0412 - val_acc: 0.9873\n",
      "Epoch 16/60\n",
      "1123/1123 [==============================] - 92s 82ms/step - loss: 0.0721 - acc: 0.9772 - val_loss: 0.0409 - val_acc: 0.9870\n",
      "Epoch 17/60\n",
      "1123/1123 [==============================] - 94s 84ms/step - loss: 0.0710 - acc: 0.9767 - val_loss: 0.0399 - val_acc: 0.9867\n",
      "Epoch 18/60\n",
      "1123/1123 [==============================] - 92s 82ms/step - loss: 0.0629 - acc: 0.9795 - val_loss: 0.0577 - val_acc: 0.9800\n",
      "Epoch 19/60\n",
      "1123/1123 [==============================] - 92s 82ms/step - loss: 0.0582 - acc: 0.9822 - val_loss: 0.0212 - val_acc: 0.9953\n",
      "Epoch 20/60\n",
      "1123/1123 [==============================] - 94s 84ms/step - loss: 0.0639 - acc: 0.9786 - val_loss: 0.0372 - val_acc: 0.9870\n",
      "Epoch 21/60\n",
      "1123/1123 [==============================] - 93s 83ms/step - loss: 0.0527 - acc: 0.9842 - val_loss: 0.0286 - val_acc: 0.9910\n",
      "Epoch 22/60\n",
      "1123/1123 [==============================] - 92s 82ms/step - loss: 0.0513 - acc: 0.9841 - val_loss: 0.0487 - val_acc: 0.9850\n",
      "Epoch 23/60\n",
      "1123/1123 [==============================] - 95s 84ms/step - loss: 0.0491 - acc: 0.9854 - val_loss: 0.0224 - val_acc: 0.9920\n",
      "Epoch 24/60\n",
      "1123/1123 [==============================] - 93s 82ms/step - loss: 0.0522 - acc: 0.9820 - val_loss: 0.0185 - val_acc: 0.9950\n",
      "Epoch 25/60\n",
      "1123/1123 [==============================] - 92s 82ms/step - loss: 0.0478 - acc: 0.9861 - val_loss: 0.0210 - val_acc: 0.9930\n",
      "Epoch 26/60\n",
      "1123/1123 [==============================] - 95s 84ms/step - loss: 0.0455 - acc: 0.9846 - val_loss: 0.0309 - val_acc: 0.9883\n",
      "Epoch 27/60\n",
      "1123/1123 [==============================] - 93s 82ms/step - loss: 0.0416 - acc: 0.9869 - val_loss: 0.0193 - val_acc: 0.9940\n",
      "Epoch 28/60\n",
      "1123/1123 [==============================] - 92s 82ms/step - loss: 0.0416 - acc: 0.9888 - val_loss: 0.0307 - val_acc: 0.9907\n",
      "Epoch 29/60\n",
      "1123/1123 [==============================] - 95s 84ms/step - loss: 0.0400 - acc: 0.9885 - val_loss: 0.0150 - val_acc: 0.9967\n",
      "Epoch 30/60\n",
      "1123/1123 [==============================] - 93s 83ms/step - loss: 0.0386 - acc: 0.9873 - val_loss: 0.0132 - val_acc: 0.9960\n",
      "Epoch 31/60\n",
      "1123/1123 [==============================] - 93s 83ms/step - loss: 0.0343 - acc: 0.9884 - val_loss: 0.0304 - val_acc: 0.9913\n",
      "Epoch 32/60\n",
      "1123/1123 [==============================] - 95s 84ms/step - loss: 0.0391 - acc: 0.9874 - val_loss: 0.0200 - val_acc: 0.99400.98\n",
      "Epoch 33/60\n",
      "1123/1123 [==============================] - 93s 83ms/step - loss: 0.0370 - acc: 0.9889 - val_loss: 0.0116 - val_acc: 0.9973\n",
      "Epoch 34/60\n",
      "1123/1123 [==============================] - 92s 82ms/step - loss: 0.0364 - acc: 0.9886 - val_loss: 0.0122 - val_acc: 0.9973\n",
      "Epoch 35/60\n",
      "1123/1123 [==============================] - 94s 84ms/step - loss: 0.0344 - acc: 0.9896 - val_loss: 0.0176 - val_acc: 0.9953\n",
      "Epoch 36/60\n",
      "1123/1123 [==============================] - 93s 83ms/step - loss: 0.0298 - acc: 0.9908 - val_loss: 0.0140 - val_acc: 0.9973\n",
      "Epoch 37/60\n",
      "1123/1123 [==============================] - 92s 82ms/step - loss: 0.0337 - acc: 0.9893 - val_loss: 0.0118 - val_acc: 0.9973\n",
      "Epoch 38/60\n",
      "1123/1123 [==============================] - 94s 84ms/step - loss: 0.0303 - acc: 0.9903 - val_loss: 0.0105 - val_acc: 0.9973\n",
      "Epoch 39/60\n",
      "1123/1123 [==============================] - 93s 82ms/step - loss: 0.0297 - acc: 0.9909 - val_loss: 0.0130 - val_acc: 0.9960\n",
      "Epoch 40/60\n",
      "1123/1123 [==============================] - 92s 82ms/step - loss: 0.0268 - acc: 0.9911 - val_loss: 0.0104 - val_acc: 0.9970\n",
      "Epoch 41/60\n",
      "1123/1123 [==============================] - 94s 84ms/step - loss: 0.0263 - acc: 0.9924 - val_loss: 0.0102 - val_acc: 0.9973\n",
      "Epoch 42/60\n",
      "1123/1123 [==============================] - 93s 83ms/step - loss: 0.0301 - acc: 0.9903 - val_loss: 0.0110 - val_acc: 0.9973\n",
      "Epoch 43/60\n",
      "1123/1123 [==============================] - 93s 83ms/step - loss: 0.0294 - acc: 0.9907 - val_loss: 0.0091 - val_acc: 0.9970\n",
      "Epoch 44/60\n",
      "1123/1123 [==============================] - 94s 84ms/step - loss: 0.0273 - acc: 0.9925 - val_loss: 0.0144 - val_acc: 0.9953\n",
      "Epoch 45/60\n",
      "1123/1123 [==============================] - 93s 83ms/step - loss: 0.0285 - acc: 0.9930 - val_loss: 0.0096 - val_acc: 0.9973\n",
      "Epoch 46/60\n",
      "1123/1123 [==============================] - 93s 83ms/step - loss: 0.0276 - acc: 0.9908 - val_loss: 0.0090 - val_acc: 0.9977\n",
      "Epoch 47/60\n",
      "1123/1123 [==============================] - 94s 84ms/step - loss: 0.0244 - acc: 0.9935 - val_loss: 0.0092 - val_acc: 0.9970\n",
      "Epoch 48/60\n",
      "1123/1123 [==============================] - 93s 83ms/step - loss: 0.0218 - acc: 0.9933 - val_loss: 0.0133 - val_acc: 0.9970\n",
      "Epoch 49/60\n",
      "1123/1123 [==============================] - 92s 82ms/step - loss: 0.0236 - acc: 0.9938 - val_loss: 0.0091 - val_acc: 0.9967\n",
      "Epoch 50/60\n",
      "1123/1123 [==============================] - 94s 84ms/step - loss: 0.0225 - acc: 0.9941 - val_loss: 0.0095 - val_acc: 0.9980\n",
      "Epoch 51/60\n",
      "1123/1123 [==============================] - 94s 83ms/step - loss: 0.0248 - acc: 0.9928 - val_loss: 0.0096 - val_acc: 0.9980\n",
      "Epoch 52/60\n",
      "1123/1123 [==============================] - 93s 83ms/step - loss: 0.0230 - acc: 0.9937 - val_loss: 0.0083 - val_acc: 0.9983\n",
      "Epoch 53/60\n",
      "1123/1123 [==============================] - 95s 84ms/step - loss: 0.0219 - acc: 0.9941 - val_loss: 0.0102 - val_acc: 0.9967\n",
      "Epoch 54/60\n",
      "1123/1123 [==============================] - 93s 83ms/step - loss: 0.0195 - acc: 0.9951 - val_loss: 0.0088 - val_acc: 0.9977\n",
      "Epoch 55/60\n",
      "1123/1123 [==============================] - 92s 82ms/step - loss: 0.0224 - acc: 0.9932 - val_loss: 0.0076 - val_acc: 0.9977\n",
      "Epoch 56/60\n",
      "1123/1123 [==============================] - 94s 84ms/step - loss: 0.0243 - acc: 0.9928 - val_loss: 0.0101 - val_acc: 0.9973\n",
      "Epoch 57/60\n",
      "1123/1123 [==============================] - 93s 83ms/step - loss: 0.0174 - acc: 0.9954 - val_loss: 0.0092 - val_acc: 0.9980\n",
      "Epoch 58/60\n",
      "1123/1123 [==============================] - 92s 82ms/step - loss: 0.0220 - acc: 0.9938 - val_loss: 0.0066 - val_acc: 0.9980\n",
      "Epoch 59/60\n",
      "1123/1123 [==============================] - 94s 84ms/step - loss: 0.0213 - acc: 0.9939 - val_loss: 0.0076 - val_acc: 0.9987\n",
      "Epoch 60/60\n",
      "1123/1123 [==============================] - 93s 83ms/step - loss: 0.0174 - acc: 0.9953 - val_loss: 0.0078 - val_acc: 0.9977\n"
     ]
    }
   ],
   "source": [
    "history = model.fit_generator(\n",
    "    aug.flow(x_train, y_train, batch_size=BS),\n",
    "    validation_data=(x_test, y_test),\n",
    "    steps_per_epoch=len(x_train) // BS,\n",
    "    epochs=60, verbose=1\n",
    "    \n",
    "    )"
   ]
  },
  {
   "cell_type": "code",
   "execution_count": 17,
   "metadata": {},
   "outputs": [],
   "source": [
    "import os\n",
    "import pandas as pd\n",
    "import numpy as np\n",
    "import matplotlib.pyplot as plt\n",
    "import csv"
   ]
  },
  {
   "cell_type": "code",
   "execution_count": 18,
   "metadata": {},
   "outputs": [
    {
     "data": {
      "image/png": "[encoded data removed]",
      "text/plain": [
       "<Figure size 432x288 with 1 Axes>"
      ]
     },
     "metadata": {},
     "output_type": "display_data"
    }
   ],
   "source": [
    "plt.plot(history.history['acc'])\n",
    "plt.plot(history.history['val_acc'])\n",
    "plt.title('model accuracy')\n",
    "plt.ylabel('accuracy')\n",
    "plt.xlabel('epochs')\n",
    "plt.legend(['train', 'valid'], loc='upper left')\n",
    "plt.show()"
   ]
  },
  {
   "cell_type": "code",
   "execution_count": 19,
   "metadata": {},
   "outputs": [
    {
     "data": {
      "image/png": "[encoded data removed]",
      "text/plain": [
       "<Figure size 432x288 with 1 Axes>"
      ]
     },
     "metadata": {},
     "output_type": "display_data"
    }
   ],
   "source": [
    "plt.plot(history.history['loss'])\n",
    "plt.plot(history.history['val_loss'])\n",
    "plt.title('model loss')\n",
    "plt.ylabel('loss')\n",
    "plt.xlabel('epoch')\n",
    "plt.legend(['train', 'valid'], loc='upper left')\n",
    "plt.show()"
   ]
  },
  {
   "cell_type": "code",
   "execution_count": 20,
   "metadata": {},
   "outputs": [
    {
     "name": "stdout",
     "output_type": "stream",
     "text": [
      "CONFUSION MATRIX ------------------\n",
      "[[508   0   1   0   0   0]\n",
      " [  0 702   1   0   0   0]\n",
      " [  0   1 609   0   0   0]\n",
      " [  0   1   0 386   0   0]\n",
      " [  0   3   0   0 291   0]\n",
      " [  0   0   0   0   0 494]]\n",
      "\n",
      "============TEST METRICS=============\n",
      "Accuracy: 99.76643309976645%\n",
      "Precision: 99.7673617489516%\n",
      "Recall: 99.76643309976645%\n",
      "F1-score: 99.766897422198\n",
      "\n",
      "TRAIN METRIC ----------------------\n",
      "Train acc: 99.53\n"
     ]
    }
   ],
   "source": [
    "from sklearn.metrics import accuracy_score, confusion_matrix,f1_score, precision_score, recall_score\n",
    "\n",
    "Y_preds = model.predict(x_test)\n",
    "\n",
    "Y_preds = np.argmax(Y_preds, axis=1)\n",
    "Y_true = np.argmax(y_test, axis=1)\n",
    "\n",
    "acc = accuracy_score(np.round(Y_preds),Y_true)*100\n",
    "cm = confusion_matrix(Y_true, np.round(Y_preds))\n",
    "precision=precision_score(np.round(Y_preds),Y_true,average='weighted')*100\n",
    "recall=recall_score(np.round(Y_preds),Y_true,average='weighted')*100\n",
    "#tn, fp, fn, tp = cm.ravel()\n",
    "\n",
    "print('CONFUSION MATRIX ------------------')\n",
    "print(cm)\n",
    "\n",
    "print('\\n============TEST METRICS=============')\n",
    "#precision = tp/(tp+fp)*100\n",
    "#recall = tp/(tp+fn)*100\n",
    "print('Accuracy: {}%'.format(acc))\n",
    "print('Precision: {}%'.format(precision))\n",
    "print('Recall: {}%'.format(recall))\n",
    "print('F1-score: {}'.format(2*precision*recall/(precision+recall)))\n",
    "\n",
    "print('\\nTRAIN METRIC ----------------------')\n",
    "print('Train acc: {}'.format(np.round((history.history['acc'][-1])*100, 2)))"
   ]
  },
  {
   "cell_type": "code",
   "execution_count": 21,
   "metadata": {
    "scrolled": true
   },
   "outputs": [
    {
     "name": "stdout",
     "output_type": "stream",
     "text": [
      "                                     precision    recall  f1-score   support\n",
      "\n",
      "                        Commom rust       1.00      1.00      1.00       509\n",
      "                   Bipolaris maydis       0.99      1.00      1.00       703\n",
      "Curvularia lunata(wakker) boed spot       1.00      1.00      1.00       610\n",
      "               Northern leaf blight       1.00      1.00      1.00       387\n",
      "                           Own spot       1.00      0.99      0.99       294\n",
      "                      Sheath blight       1.00      1.00      1.00       494\n",
      "\n",
      "                           accuracy                           1.00      2997\n",
      "                          macro avg       1.00      1.00      1.00      2997\n",
      "                       weighted avg       1.00      1.00      1.00      2997\n",
      "\n"
     ]
    }
   ],
   "source": [
    "import numpy as np\n",
    "from sklearn.metrics import classification_report,confusion_matrix\n",
    "import itertools\n",
    "\n",
    "Y_pred = model.predict(x_test)\n",
    "y_pred = np.argmax(Y_pred, axis=1)\n",
    "target_names = [ 'Commom rust','Bipolaris maydis','Curvularia lunata(wakker) boed spot','Northern leaf blight','Own spot','Sheath blight']\n",
    "print(classification_report(np.argmax(y_test,axis=1), y_pred,target_names=target_names))"
   ]
  },
  {
   "cell_type": "code",
   "execution_count": 22,
   "metadata": {},
   "outputs": [
    {
     "name": "stdout",
     "output_type": "stream",
     "text": [
      "[INFO] Calculating model accuracy\n",
      "2997/2997 [==============================] - 6s 2ms/step\n",
      "Test Accuracy: 99.76643309976645\n"
     ]
    }
   ],
   "source": [
    "print(\"[INFO] Calculating model accuracy\")\n",
    "scores = model.evaluate(x_test, y_test)\n",
    "print(f\"Test Accuracy: {scores[1]*100}\")"
   ]
  },
  {
   "cell_type": "code",
   "execution_count": 23,
   "metadata": {},
   "outputs": [
    {
     "name": "stdout",
     "output_type": "stream",
     "text": [
      "2997/2997 [==============================] - 6s 2ms/step\n",
      "0.007765545800968714\n",
      "0.9976643309976644\n"
     ]
    }
   ],
   "source": [
    "test_loss,test_acc=model.evaluate(x_test,y_test)\n",
    "print(test_loss)\n",
    "print(test_acc)"
   ]
  },
  {
   "cell_type": "code",
   "execution_count": 24,
   "metadata": {},
   "outputs": [
    {
     "name": "stdout",
     "output_type": "stream",
     "text": [
      "[0.32432432434421243, 0.8401735068401736, 0.9002335669002336, 0.9279279279279279, 0.8862195528862196, 0.9265932599265932, 0.9569569569569569, 0.9022355689022356, 0.9686353019686353, 0.9632966299632967, 0.9753086419753086, 0.9713046379713046, 0.9893226559893227, 0.9826493159826493, 0.9873206539873206, 0.986986986986987, 0.9866533199866533, 0.97997997997998, 0.9953286619953287, 0.986986986986987, 0.990990990990991, 0.984984984984985, 0.991991991991992, 0.994994994994995, 0.992992992992993, 0.9883216549883217, 0.993993993993994, 0.9906573239906573, 0.9966633299966633, 0.995995995995996, 0.9913246579913246, 0.993993993993994, 0.9973306639973306, 0.9973306639973306, 0.9953286619953287, 0.9973306639973306, 0.9973306639973306, 0.9973306639973306, 0.995995995995996, 0.996996996996997, 0.9973306639973306, 0.9973306639973306, 0.996996996996997, 0.9953286619953287, 0.9973306639973306, 0.9976643309976644, 0.996996996996997, 0.996996996996997, 0.9966633299966633, 0.997997997997998, 0.997997997997998, 0.9983316649983317, 0.9966633299966633, 0.9976643309976644, 0.9976643309976644, 0.9973306639973306, 0.997997997997998, 0.997997997997998, 0.9986653319986654, 0.9976643309976644]\n"
     ]
    }
   ],
   "source": [
    "print(history.history['val_acc'])"
   ]
  },
  {
   "cell_type": "code",
   "execution_count": 25,
   "metadata": {},
   "outputs": [
    {
     "name": "stdout",
     "output_type": "stream",
     "text": [
      "[3.2484765445784327, 0.43957779357880405, 0.2956210555938191, 0.20929124877434802, 0.34572875824709376, 0.2131665436349608, 0.125014717421225, 0.2776510041402227, 0.08663676505241652, 0.10288893418163769, 0.08375781534783776, 0.08498122977123315, 0.04024605002692563, 0.05365382930042311, 0.0412053756876844, 0.040910936079917276, 0.03991473292024364, 0.05770259584386609, 0.021171584505863063, 0.03717507894625508, 0.02862108230097036, 0.048730733791217215, 0.022436125354060123, 0.018491865411817552, 0.020986229774766982, 0.030855141001402787, 0.0192893665877318, 0.030696344758172775, 0.014979113581383452, 0.01317161381173711, 0.03038299331274842, 0.020000714494843343, 0.011614595846089312, 0.01221208610087401, 0.017573932529358398, 0.014039190419405136, 0.011757149754538919, 0.010465339272951707, 0.013019952749507117, 0.010354084930393536, 0.010169064487563155, 0.011010403427357431, 0.009073704448999109, 0.014371360125866595, 0.009569866126895657, 0.008958768776970376, 0.009211803299026905, 0.013277592268763062, 0.009130346010157567, 0.009473064759236382, 0.00962247547811073, 0.008320098069545902, 0.010212945443242782, 0.008791428974524257, 0.0076191594343751065, 0.010065324079496417, 0.00918755027912995, 0.006637647115055561, 0.007614872048565992, 0.007765545859167878]\n"
     ]
    }
   ],
   "source": [
    "print(history.history['val_loss'])"
   ]
  },
  {
   "cell_type": "code",
   "execution_count": 26,
   "metadata": {
    "scrolled": true
   },
   "outputs": [
    {
     "name": "stdout",
     "output_type": "stream",
     "text": [
      "[0.5747049654865286, 0.766644399910933, 0.8370073480161201, 0.8736361611980394, 0.9022489423423746, 0.9226230238254286, 0.9364284123803162, 0.9457804497884659, 0.9513471387218883, 0.9588065018926742, 0.9604765085594289, 0.9651525272635038, 0.964707192162102, 0.9671565352795358, 0.9704965486528613, 0.9771765753729682, 0.9767312402582944, 0.9795145847250055, 0.9821865954130483, 0.978623914495658, 0.9841906034290804, 0.9840792696504119, 0.9854152749944333, 0.9819639278557114, 0.986083277666444, 0.9846359385437542, 0.9869739478825196, 0.9887552883544868, 0.9885326207971499, 0.9873079492317969, 0.9884212870184814, 0.9874192830104653, 0.9888666221331552, 0.988646482635797, 0.9896436525612472, 0.9907592963705188, 0.9893119572478289, 0.990313961255845, 0.9908706301491873, 0.9910932977065242, 0.9924293030372735, 0.990313961255845, 0.9906479625918504, 0.992540636829214, 0.9929859719438878, 0.9908706301359153, 0.99354264083723, 0.9933199732666211, 0.9937653083945669, 0.9940993097305723, 0.9928746381519473, 0.9936539746158984, 0.9940993097305723, 0.9951013137385882, 0.9932086395012246, 0.9928746381519473, 0.9954353150745936, 0.9937653083945669, 0.9938780053428317, 0.9953229398530947]\n"
     ]
    }
   ],
   "source": [
    "print(history.history['acc'])"
   ]
  },
  {
   "cell_type": "code",
   "execution_count": 27,
   "metadata": {},
   "outputs": [
    {
     "name": "stdout",
     "output_type": "stream",
     "text": [
      "[1.1014542433658652, 0.6440005439628713, 0.4501819772879336, 0.3458278581899873, 0.27974390092365353, 0.2247312212202377, 0.18639081678712216, 0.16148378095062638, 0.14192208130419856, 0.11968593475087627, 0.11499222044843788, 0.10255226669301147, 0.10174956756022965, 0.09113245859133104, 0.08399766899515823, 0.07210226171864419, 0.07102233005653481, 0.06294190538372116, 0.058230545151914136, 0.06392134461936896, 0.05269483278543454, 0.0513276248691059, 0.04913898925612951, 0.05223127833915017, 0.04782123315435582, 0.04554693344394124, 0.041576248523081914, 0.041657833820898174, 0.04003476515554175, 0.03865466406701087, 0.03435239886487182, 0.03911234153988534, 0.03697920567835605, 0.036402935837431774, 0.03441607041013109, 0.029821781286131804, 0.033735554634343905, 0.03032438412994172, 0.029679766384879996, 0.026803640186267578, 0.026209839348899613, 0.030099696190189963, 0.029432845968287852, 0.027269563358112477, 0.028495176540812052, 0.027590515857201046, 0.0243601922311413, 0.02176789304397938, 0.02358739653508496, 0.022540163880151003, 0.024808046272076046, 0.02301379869807847, 0.021936258424397587, 0.01951954862957719, 0.02239501660714817, 0.024234361509717514, 0.017433826607398804, 0.021954451302930087, 0.021251672480920646, 0.017364828114382655]\n"
     ]
    }
   ],
   "source": [
    "print(history.history['loss'])"
   ]
  },
  {
   "cell_type": "code",
   "execution_count": 28,
   "metadata": {},
   "outputs": [
    {
     "name": "stdout",
     "output_type": "stream",
     "text": [
      "2997/2997 [==============================] - 6s 2ms/step\n"
     ]
    },
    {
     "data": {
      "text/plain": [
       "array([0, 5, 1, ..., 0, 0, 1], dtype=int64)"
      ]
     },
     "execution_count": 28,
     "metadata": {},
     "output_type": "execute_result"
    }
   ],
   "source": [
    "pred = model.predict(x_test,verbose=1)\n",
    "y_pred = np.argmax(pred, axis = 1)\n",
    "y_pred"
   ]
  },
  {
   "cell_type": "code",
   "execution_count": 29,
   "metadata": {},
   "outputs": [],
   "source": [
    "def plot_confusion_matrix(cm, classes,\n",
    "                          normalize=False,\n",
    "                          title='Confusion matrix',\n",
    "                          cmap=plt.cm.Blues):\n",
    "    \"\"\"\n",
    "    This function prints and plots the confusion matrix.\n",
    "    Normalization can be applied by setting `normalize=True`.\n",
    "    \"\"\"\n",
    "    plt.imshow(cm, interpolation='nearest', cmap=cmap)\n",
    "    plt.title(title)\n",
    "    plt.colorbar()\n",
    "    tick_marks = np.arange(len(classes))\n",
    "    plt.xticks(tick_marks, classes, rotation=45)\n",
    "    plt.yticks(tick_marks, classes)\n",
    "\n",
    "    if normalize:\n",
    "        cm = cm.astype('float') / cm.sum(axis=1)[:, np.newaxis]\n",
    "        print(\"Normalized confusion matrix\")\n",
    "    else:\n",
    "        print('Confusion matrix, without normalization')\n",
    "\n",
    "    print(cm)\n",
    "\n",
    "    thresh = cm.max() / 2.\n",
    "    for i, j in itertools.product(range(cm.shape[0]), range(cm.shape[1])):\n",
    "        plt.text(j, i, cm[i, j],\n",
    "                 horizontalalignment=\"center\",\n",
    "                 color=\"white\" if cm[i, j] > thresh else \"black\")\n",
    "        \n",
    "\n",
    "    plt.tight_layout()\n",
    "    plt.ylabel('True label')\n",
    "    plt.xlabel('Predicted label')"
   ]
  },
  {
   "cell_type": "code",
   "execution_count": 30,
   "metadata": {},
   "outputs": [
    {
     "name": "stdout",
     "output_type": "stream",
     "text": [
      "Confusion matrix, without normalization\n",
      "[[508   0   1   0   0   0]\n",
      " [  0 702   1   0   0   0]\n",
      " [  0   1 609   0   0   0]\n",
      " [  0   1   0 386   0   0]\n",
      " [  0   3   0   0 291   0]\n",
      " [  0   0   0   0   0 494]]\n"
     ]
    },
    {
     "data": {
      "image/png": "[encoded data removed]",
      "text/plain": [
       "<Figure size 504x504 with 2 Axes>"
      ]
     },
     "metadata": {},
     "output_type": "display_data"
    }
   ],
   "source": [
    "cnf_matrix = (confusion_matrix(np.argmax(y_test,axis=1), y_pred))\n",
    "np.set_printoptions(precision=2)\n",
    "plt.figure(figsize=(7,7))\n",
    "plot_confusion_matrix(cnf_matrix, classes=target_names,\n",
    "                      title='Confusion matrix')"
   ]
  },
  {
   "cell_type": "code",
   "execution_count": 31,
   "metadata": {},
   "outputs": [
    {
     "name": "stdout",
     "output_type": "stream",
     "text": [
      "WARNING:tensorflow:From D:\\anaconda\\lib\\site-packages\\tensorflow\\python\\profiler\\internal\\flops_registry.py:142: tensor_shape_from_node_def_name (from tensorflow.python.framework.graph_util_impl) is deprecated and will be removed in a future version.\n",
      "Instructions for updating:\n",
      "Use `tf.compat.v1.graph_util.tensor_shape_from_node_def_name`\n",
      "FLOPs of tensorflow 1.12.0: 7112563\n"
     ]
    }
   ],
   "source": [
    "import tensorflow as tf\n",
    "import tensorflow.keras.backend as K\n",
    "\n",
    "def get_flops(model):\n",
    "    run_meta = tf.RunMetadata()\n",
    "    opts = tf.profiler.ProfileOptionBuilder.float_operation()\n",
    "\n",
    "    flops = tf.profiler.profile(graph=K.get_session().graph,\n",
    "                                run_meta=run_meta, cmd='op', options=opts)\n",
    " \n",
    "    return flops.total_float_ops\n",
    "\n",
    "if __name__ == \"__main__\":\n",
    "    x = K.random_normal(shape=(1, 1, 100, 256))\n",
    "    model = ShuffleNet_V2(x.shape)\n",
    "    print('FLOPs of tensorflow 1.12.0:', get_flops(model))\n"
   ]
  },
  {
   "cell_type": "code",
   "execution_count": null,
   "metadata": {},
   "outputs": [],
   "source": []
  }
 ],
 "metadata": {
  "kernelspec": {
   "display_name": "Python 3 (ipykernel)",
   "language": "python",
   "name": "python3"
  },
  "language_info": {
   "codemirror_mode": {
    "name": "ipython",
    "version": 3
   },
   "file_extension": ".py",
   "mimetype": "text/x-python",
   "name": "python",
   "nbconvert_exporter": "python",
   "pygments_lexer": "ipython3",
   "version": "3.9.13"
  }
 },
 "nbformat": 4,
 "nbformat_minor": 2
}
