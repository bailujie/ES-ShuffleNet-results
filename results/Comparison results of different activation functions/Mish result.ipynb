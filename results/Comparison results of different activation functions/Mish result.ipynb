{
 "cells": [
  {
   "cell_type": "code",
   "execution_count": 16,
   "metadata": {
    "scrolled": true
   },
   "outputs": [
    {
     "name": "stdout",
     "output_type": "stream",
     "text": [
      "WARNING:tensorflow:From D:\\anaconda\\lib\\site-packages\\tensorflow\\python\\ops\\math_grad.py:1250: add_dispatch_support.<locals>.wrapper (from tensorflow.python.ops.array_ops) is deprecated and will be removed in a future version.\n",
      "Instructions for updating:\n",
      "Use tf.where in 2.0, which has the same broadcast rule as np.where\n",
      "Epoch 1/60\n",
      "1123/1123 [==============================] - 181s 161ms/step - loss: 1.0822 - acc: 0.5808 - val_loss: 2.6607 - val_acc: 0.3413\n",
      "Epoch 2/60\n",
      "1123/1123 [==============================] - 95s 85ms/step - loss: 0.6323 - acc: 0.7708 - val_loss: 0.6955 - val_acc: 0.7417\n",
      "Epoch 3/60\n",
      "1123/1123 [==============================] - 93s 83ms/step - loss: 0.4418 - acc: 0.8371 - val_loss: 0.5489 - val_acc: 0.8041\n",
      "Epoch 4/60\n",
      "1123/1123 [==============================] - 93s 83ms/step - loss: 0.3348 - acc: 0.8837 - val_loss: 0.4294 - val_acc: 0.8595\n",
      "Epoch 5/60\n",
      "1123/1123 [==============================] - 98s 87ms/step - loss: 0.2555 - acc: 0.9102 - val_loss: 0.4950 - val_acc: 0.8322\n",
      "Epoch 6/60\n",
      "1123/1123 [==============================] - 104s 92ms/step - loss: 0.2083 - acc: 0.9292 - val_loss: 0.6109 - val_acc: 0.7831\n",
      "Epoch 7/60\n",
      "1123/1123 [==============================] - 94s 84ms/step - loss: 0.1718 - acc: 0.9386 - val_loss: 0.8057 - val_acc: 0.7741\n",
      "Epoch 8/60\n",
      "1123/1123 [==============================] - 98s 87ms/step - loss: 0.1546 - acc: 0.9474 - val_loss: 0.1155 - val_acc: 0.9570\n",
      "Epoch 9/60\n",
      "1123/1123 [==============================] - 96s 86ms/step - loss: 0.1316 - acc: 0.9548 - val_loss: 0.0718 - val_acc: 0.9796\n",
      "Epoch 10/60\n",
      "1123/1123 [==============================] - 97s 87ms/step - loss: 0.1143 - acc: 0.9625 - val_loss: 0.0877 - val_acc: 0.9676\n",
      "Epoch 11/60\n",
      "1123/1123 [==============================] - 98s 87ms/step - loss: 0.0982 - acc: 0.9664 - val_loss: 0.0491 - val_acc: 0.9840\n",
      "Epoch 12/60\n",
      "1123/1123 [==============================] - 96s 86ms/step - loss: 0.0915 - acc: 0.9722 - val_loss: 0.8123 - val_acc: 0.8502\n",
      "Epoch 13/60\n",
      "1123/1123 [==============================] - 98s 87ms/step - loss: 0.0804 - acc: 0.9733 - val_loss: 0.5868 - val_acc: 0.8692\n",
      "Epoch 14/60\n",
      "1123/1123 [==============================] - 99s 88ms/step - loss: 0.0717 - acc: 0.9768 - val_loss: 0.0345 - val_acc: 0.9880\n",
      "Epoch 15/60\n",
      "1123/1123 [==============================] - 96s 86ms/step - loss: 0.0698 - acc: 0.9778 - val_loss: 0.1266 - val_acc: 0.9550\n",
      "Epoch 16/60\n",
      "1123/1123 [==============================] - 97s 86ms/step - loss: 0.0717 - acc: 0.9772 - val_loss: 0.0378 - val_acc: 0.9867\n",
      "Epoch 17/60\n",
      "1123/1123 [==============================] - 97s 86ms/step - loss: 0.0588 - acc: 0.9819 - val_loss: 0.0267 - val_acc: 0.9917\n",
      "Epoch 18/60\n",
      "1123/1123 [==============================] - 96s 86ms/step - loss: 0.0560 - acc: 0.9814 - val_loss: 0.0368 - val_acc: 0.9877\n",
      "Epoch 19/60\n",
      "1123/1123 [==============================] - 97s 86ms/step - loss: 0.0495 - acc: 0.9848 - val_loss: 0.0228 - val_acc: 0.9953\n",
      "Epoch 20/60\n",
      "1123/1123 [==============================] - 97s 86ms/step - loss: 0.0498 - acc: 0.9861 - val_loss: 0.1115 - val_acc: 0.9610\n",
      "Epoch 21/60\n",
      "1123/1123 [==============================] - 97s 86ms/step - loss: 0.0470 - acc: 0.9855 - val_loss: 0.0159 - val_acc: 0.9960\n",
      "Epoch 22/60\n",
      "1123/1123 [==============================] - 97s 86ms/step - loss: 0.0429 - acc: 0.9869 - val_loss: 0.0228 - val_acc: 0.9933\n",
      "Epoch 23/60\n",
      "1123/1123 [==============================] - 97s 86ms/step - loss: 0.0425 - acc: 0.9870 - val_loss: 0.0417 - val_acc: 0.9847\n",
      "Epoch 24/60\n",
      "1123/1123 [==============================] - 96s 86ms/step - loss: 0.0383 - acc: 0.9889 - val_loss: 0.0123 - val_acc: 0.9970\n",
      "Epoch 25/60\n",
      "1123/1123 [==============================] - 97s 86ms/step - loss: 0.0404 - acc: 0.9874 - val_loss: 0.0171 - val_acc: 0.9940\n",
      "Epoch 26/60\n",
      "1123/1123 [==============================] - 97s 86ms/step - loss: 0.0377 - acc: 0.9882 - val_loss: 0.0646 - val_acc: 0.9750\n",
      "Epoch 27/60\n",
      "1123/1123 [==============================] - 96s 85ms/step - loss: 0.0356 - acc: 0.9885 - val_loss: 0.0126 - val_acc: 0.9963\n",
      "Epoch 28/60\n",
      "1123/1123 [==============================] - 97s 87ms/step - loss: 0.0389 - acc: 0.9858 - val_loss: 0.0279 - val_acc: 0.9903loss:\n",
      "Epoch 29/60\n",
      "1123/1123 [==============================] - 97s 86ms/step - loss: 0.0284 - acc: 0.9919 - val_loss: 0.0108 - val_acc: 0.9980\n",
      "Epoch 30/60\n",
      "1123/1123 [==============================] - 96s 85ms/step - loss: 0.0315 - acc: 0.9910 - val_loss: 0.0101 - val_acc: 0.9983\n",
      "Epoch 31/60\n",
      "1123/1123 [==============================] - 97s 86ms/step - loss: 0.0298 - acc: 0.9908 - val_loss: 0.0114 - val_acc: 0.9980\n",
      "Epoch 32/60\n",
      "1123/1123 [==============================] - 98s 87ms/step - loss: 0.0271 - acc: 0.9921 - val_loss: 0.0181 - val_acc: 0.9947\n",
      "Epoch 33/60\n",
      "1123/1123 [==============================] - 96s 85ms/step - loss: 0.0292 - acc: 0.9910 - val_loss: 0.0127 - val_acc: 0.9960\n",
      "Epoch 34/60\n",
      "1123/1123 [==============================] - 96s 86ms/step - loss: 0.0280 - acc: 0.9905 - val_loss: 0.0096 - val_acc: 0.9970\n",
      "Epoch 35/60\n",
      "1123/1123 [==============================] - 98s 87ms/step - loss: 0.0267 - acc: 0.9920 - val_loss: 0.0082 - val_acc: 0.9973\n",
      "Epoch 36/60\n",
      "1123/1123 [==============================] - 96s 85ms/step - loss: 0.0258 - acc: 0.9935 - val_loss: 0.0120 - val_acc: 0.9970\n",
      "Epoch 37/60\n",
      "1123/1123 [==============================] - 97s 86ms/step - loss: 0.0268 - acc: 0.9921 - val_loss: 0.0065 - val_acc: 0.9987\n",
      "Epoch 38/60\n",
      "1123/1123 [==============================] - 97s 87ms/step - loss: 0.0245 - acc: 0.9931 - val_loss: 0.0067 - val_acc: 0.9983\n",
      "Epoch 39/60\n",
      "1123/1123 [==============================] - 96s 86ms/step - loss: 0.0278 - acc: 0.9911 - val_loss: 0.0067 - val_acc: 0.9983 ETA: 1s - loss: 0.0\n",
      "Epoch 40/60\n",
      "1123/1123 [==============================] - 96s 86ms/step - loss: 0.0251 - acc: 0.9928 - val_loss: 0.0117 - val_acc: 0.9973\n",
      "Epoch 41/60\n",
      "1123/1123 [==============================] - 97s 86ms/step - loss: 0.0250 - acc: 0.9924 - val_loss: 0.0070 - val_acc: 0.9990\n",
      "Epoch 42/60\n",
      "1123/1123 [==============================] - 97s 87ms/step - loss: 0.0252 - acc: 0.9923 - val_loss: 0.0077 - val_acc: 0.9983\n",
      "Epoch 43/60\n",
      "1123/1123 [==============================] - 97s 86ms/step - loss: 0.0223 - acc: 0.9935 - val_loss: 0.0158 - val_acc: 0.9933\n",
      "Epoch 44/60\n",
      "1123/1123 [==============================] - 97s 87ms/step - loss: 0.0255 - acc: 0.9925 - val_loss: 0.0045 - val_acc: 0.9993\n",
      "Epoch 45/60\n",
      "1123/1123 [==============================] - 96s 85ms/step - loss: 0.0221 - acc: 0.9941 - val_loss: 0.0083 - val_acc: 0.9963\n",
      "Epoch 46/60\n",
      "1123/1123 [==============================] - 97s 86ms/step - loss: 0.0188 - acc: 0.9952 - val_loss: 0.0070 - val_acc: 0.9977\n",
      "Epoch 47/60\n",
      "1123/1123 [==============================] - 97s 87ms/step - loss: 0.0195 - acc: 0.9938 - val_loss: 0.0078 - val_acc: 0.9987\n",
      "Epoch 48/60\n",
      "1123/1123 [==============================] - 95s 85ms/step - loss: 0.0187 - acc: 0.9949 - val_loss: 0.0349 - val_acc: 0.9863\n",
      "Epoch 49/60\n",
      "1123/1123 [==============================] - 98s 87ms/step - loss: 0.0215 - acc: 0.9927 - val_loss: 0.0079 - val_acc: 0.9987\n",
      "Epoch 50/60\n",
      "1123/1123 [==============================] - 97s 86ms/step - loss: 0.0211 - acc: 0.9941 - val_loss: 0.0125 - val_acc: 0.9960\n",
      "Epoch 51/60\n",
      "1123/1123 [==============================] - 97s 86ms/step - loss: 0.0203 - acc: 0.9942 - val_loss: 0.0067 - val_acc: 0.9987\n",
      "Epoch 52/60\n",
      "1123/1123 [==============================] - 97s 86ms/step - loss: 0.0178 - acc: 0.9954 - val_loss: 0.0125 - val_acc: 0.9963\n",
      "Epoch 53/60\n",
      "1123/1123 [==============================] - 97s 87ms/step - loss: 0.0232 - acc: 0.9924 - val_loss: 0.0073 - val_acc: 0.9980\n",
      "Epoch 54/60\n",
      "1123/1123 [==============================] - 97s 86ms/step - loss: 0.0186 - acc: 0.9941 - val_loss: 0.0116 - val_acc: 0.9960\n",
      "Epoch 55/60\n",
      "1123/1123 [==============================] - 96s 86ms/step - loss: 0.0173 - acc: 0.9951 - val_loss: 0.0049 - val_acc: 0.9990\n",
      "Epoch 56/60\n",
      "1123/1123 [==============================] - 98s 87ms/step - loss: 0.0193 - acc: 0.9941 - val_loss: 0.0080 - val_acc: 0.9977\n",
      "Epoch 57/60\n",
      "1123/1123 [==============================] - 96s 86ms/step - loss: 0.0188 - acc: 0.9946 - val_loss: 0.0048 - val_acc: 0.9993\n",
      "Epoch 58/60\n",
      "1123/1123 [==============================] - 96s 86ms/step - loss: 0.0209 - acc: 0.9931 - val_loss: 0.0075 - val_acc: 0.9980\n",
      "Epoch 59/60\n",
      "1123/1123 [==============================] - 97s 86ms/step - loss: 0.0180 - acc: 0.9960 - val_loss: 0.0053 - val_acc: 0.9987\n",
      "Epoch 60/60\n",
      "1123/1123 [==============================] - 96s 86ms/step - loss: 0.0172 - acc: 0.9958 - val_loss: 0.0065 - val_acc: 0.9980\n"
     ]
    }
   ],
   "source": [
    "history = model.fit_generator(\n",
    "    aug.flow(x_train, y_train, batch_size=BS),\n",
    "    validation_data=(x_test, y_test),\n",
    "    steps_per_epoch=len(x_train) // BS,\n",
    "    epochs=60, verbose=1\n",
    "    \n",
    "    )"
   ]
  },
  {
   "cell_type": "code",
   "execution_count": 17,
   "metadata": {},
   "outputs": [],
   "source": [
    "import os\n",
    "import pandas as pd\n",
    "import numpy as np\n",
    "import matplotlib.pyplot as plt\n",
    "import csv"
   ]
  },
  {
   "cell_type": "code",
   "execution_count": 18,
   "metadata": {},
   "outputs": [
    {
     "data": {
      "image/png": "[encoded data removed]",
      "text/plain": [
       "<Figure size 432x288 with 1 Axes>"
      ]
     },
     "metadata": {},
     "output_type": "display_data"
    }
   ],
   "source": [
    "plt.plot(history.history['acc'])\n",
    "plt.plot(history.history['val_acc'])\n",
    "plt.title('model accuracy')\n",
    "plt.ylabel('accuracy')\n",
    "plt.xlabel('epochs')\n",
    "plt.legend(['train', 'valid'], loc='upper left')\n",
    "plt.show()"
   ]
  },
  {
   "cell_type": "code",
   "execution_count": 19,
   "metadata": {},
   "outputs": [
    {
     "data": {
      "image/png": "[encoded data removed]",
      "text/plain": [
       "<Figure size 432x288 with 1 Axes>"
      ]
     },
     "metadata": {},
     "output_type": "display_data"
    }
   ],
   "source": [
    "plt.plot(history.history['loss'])\n",
    "plt.plot(history.history['val_loss'])\n",
    "plt.title('model loss')\n",
    "plt.ylabel('loss')\n",
    "plt.xlabel('epoch')\n",
    "plt.legend(['train', 'valid'], loc='upper left')\n",
    "plt.show()"
   ]
  },
  {
   "cell_type": "code",
   "execution_count": 20,
   "metadata": {},
   "outputs": [
    {
     "name": "stdout",
     "output_type": "stream",
     "text": [
      "CONFUSION MATRIX ------------------\n",
      "[[509   0   0   0   0   0]\n",
      " [  0 699   3   0   1   0]\n",
      " [  0   0 610   0   0   0]\n",
      " [  0   0   0 387   0   0]\n",
      " [  0   2   0   0 292   0]\n",
      " [  0   0   0   0   0 494]]\n",
      "\n",
      "============TEST METRICS=============\n",
      "Accuracy: 99.7997997997998%\n",
      "Precision: 99.80040649055528%\n",
      "Recall: 99.7997997997998%\n",
      "F1-score: 99.80010314425552\n",
      "\n",
      "TRAIN METRIC ----------------------\n",
      "Train acc: 99.58\n"
     ]
    }
   ],
   "source": [
    "from sklearn.metrics import accuracy_score, confusion_matrix,f1_score, precision_score, recall_score\n",
    "\n",
    "Y_preds = model.predict(x_test)\n",
    "\n",
    "Y_preds = np.argmax(Y_preds, axis=1)\n",
    "Y_true = np.argmax(y_test, axis=1)\n",
    "\n",
    "acc = accuracy_score(np.round(Y_preds),Y_true)*100\n",
    "cm = confusion_matrix(Y_true, np.round(Y_preds))\n",
    "precision=precision_score(np.round(Y_preds),Y_true,average='weighted')*100\n",
    "recall=recall_score(np.round(Y_preds),Y_true,average='weighted')*100\n",
    "#tn, fp, fn, tp = cm.ravel()\n",
    "\n",
    "print('CONFUSION MATRIX ------------------')\n",
    "print(cm)\n",
    "\n",
    "print('\\n============TEST METRICS=============')\n",
    "#precision = tp/(tp+fp)*100\n",
    "#recall = tp/(tp+fn)*100\n",
    "print('Accuracy: {}%'.format(acc))\n",
    "print('Precision: {}%'.format(precision))\n",
    "print('Recall: {}%'.format(recall))\n",
    "print('F1-score: {}'.format(2*precision*recall/(precision+recall)))\n",
    "\n",
    "print('\\nTRAIN METRIC ----------------------')\n",
    "print('Train acc: {}'.format(np.round((history.history['acc'][-1])*100, 2)))"
   ]
  },
  {
   "cell_type": "code",
   "execution_count": 21,
   "metadata": {
    "scrolled": true
   },
   "outputs": [
    {
     "name": "stdout",
     "output_type": "stream",
     "text": [
      "                                     precision    recall  f1-score   support\n",
      "\n",
      "                        Commom rust       1.00      1.00      1.00       509\n",
      "                   Bipolaris maydis       1.00      0.99      1.00       703\n",
      "Curvularia lunata(wakker) boed spot       1.00      1.00      1.00       610\n",
      "               Northern leaf blight       1.00      1.00      1.00       387\n",
      "                           Own spot       1.00      0.99      0.99       294\n",
      "                      Sheath blight       1.00      1.00      1.00       494\n",
      "\n",
      "                           accuracy                           1.00      2997\n",
      "                          macro avg       1.00      1.00      1.00      2997\n",
      "                       weighted avg       1.00      1.00      1.00      2997\n",
      "\n"
     ]
    }
   ],
   "source": [
    "import numpy as np\n",
    "from sklearn.metrics import classification_report,confusion_matrix\n",
    "import itertools\n",
    "\n",
    "Y_pred = model.predict(x_test)\n",
    "y_pred = np.argmax(Y_pred, axis=1)\n",
    "target_names = [ 'Commom rust','Bipolaris maydis','Curvularia lunata(wakker) boed spot','Northern leaf blight','Own spot','Sheath blight']\n",
    "print(classification_report(np.argmax(y_test,axis=1), y_pred,target_names=target_names))"
   ]
  },
  {
   "cell_type": "code",
   "execution_count": 22,
   "metadata": {},
   "outputs": [
    {
     "name": "stdout",
     "output_type": "stream",
     "text": [
      "[INFO] Calculating model accuracy\n",
      "2997/2997 [==============================] - 7s 2ms/step\n",
      "Test Accuracy: 99.7997997997998\n"
     ]
    }
   ],
   "source": [
    "print(\"[INFO] Calculating model accuracy\")\n",
    "scores = model.evaluate(x_test, y_test)\n",
    "print(f\"Test Accuracy: {scores[1]*100}\")"
   ]
  },
  {
   "cell_type": "code",
   "execution_count": 23,
   "metadata": {},
   "outputs": [
    {
     "name": "stdout",
     "output_type": "stream",
     "text": [
      "2997/2997 [==============================] - 7s 2ms/step\n",
      "0.006504051934718411\n",
      "0.997997997997998\n"
     ]
    }
   ],
   "source": [
    "test_loss,test_acc=model.evaluate(x_test,y_test)\n",
    "print(test_loss)\n",
    "print(test_acc)"
   ]
  },
  {
   "cell_type": "code",
   "execution_count": 24,
   "metadata": {},
   "outputs": [
    {
     "name": "stdout",
     "output_type": "stream",
     "text": [
      "[0.3413413413463134, 0.741741741781518, 0.8041374708041374, 0.8595261928595261, 0.8321654988321655, 0.7831164497831165, 0.7741074407939955, 0.9569569569569569, 0.9796463129796463, 0.9676343009676343, 0.983983983983984, 0.8501835168501836, 0.8692025358692025, 0.987987987987988, 0.954954954954955, 0.9866533199866533, 0.9916583249916583, 0.9876543209876543, 0.9953286619953287, 0.960960960960961, 0.995995995995996, 0.9933266599933267, 0.9846513179846513, 0.996996996996997, 0.993993993993994, 0.974974974974975, 0.9963296629963296, 0.9903236569903237, 0.997997997997998, 0.9983316649983317, 0.997997997997998, 0.9946613279946613, 0.995995995995996, 0.996996996996997, 0.9973306639973306, 0.996996996996997, 0.9986653319986654, 0.9983316649983317, 0.9983316649983317, 0.9973306639973306, 0.998998998998999, 0.9983316649983317, 0.9933266599933267, 0.9993326659993327, 0.9963296629963296, 0.9976643309976644, 0.9986653319986654, 0.9863196529863196, 0.9986653319986654, 0.995995995995996, 0.9986653319986654, 0.9963296629963296, 0.997997997997998, 0.995995995995996, 0.998998998998999, 0.9976643309976644, 0.9993326659993327, 0.997997997997998, 0.9986653319986654, 0.997997997997998]\n"
     ]
    }
   ],
   "source": [
    "print(history.history['val_acc'])"
   ]
  },
  {
   "cell_type": "code",
   "execution_count": 25,
   "metadata": {},
   "outputs": [
    {
     "name": "stdout",
     "output_type": "stream",
     "text": [
      "[2.66070150223262, 0.6954592927111997, 0.5488965252826402, 0.4294394651775285, 0.4950463652814632, 0.6109135325278368, 0.8056785205293983, 0.11552313652828343, 0.07181425656716087, 0.08768588951927904, 0.0490667404054422, 0.8122573733389651, 0.586769529799491, 0.03454734605915247, 0.1266283430453869, 0.03775035262922679, 0.026736602762921145, 0.03676716418329174, 0.02279577264433093, 0.11150303554701677, 0.01586328316919926, 0.02278344847843516, 0.041653265072111895, 0.012259675064011665, 0.017054177479658126, 0.06455978042427082, 0.012561015406536317, 0.027948112466930172, 0.010814705317148014, 0.01006531575687397, 0.011412065300322238, 0.01813114768821966, 0.012668885983928974, 0.009615767132385412, 0.008182575037288779, 0.011976962490010195, 0.006497105068934169, 0.0067312161026668845, 0.006736302531319539, 0.011727753123926453, 0.006995653525084638, 0.00769293672339741, 0.015826350772813965, 0.004487202776500408, 0.008288578754319537, 0.006983519696470532, 0.007758420753404195, 0.03487868284669529, 0.00788292942339949, 0.012461472414770696, 0.006650540349647081, 0.012456369094155489, 0.007289792964643953, 0.011624686054268672, 0.004867375492575932, 0.008043025709994229, 0.004763463784982449, 0.007482241339483688, 0.005296010691388201, 0.006504051919082203]\n"
     ]
    }
   ],
   "source": [
    "print(history.history['val_loss'])"
   ]
  },
  {
   "cell_type": "code",
   "execution_count": 26,
   "metadata": {
    "scrolled": true
   },
   "outputs": [
    {
     "name": "stdout",
     "output_type": "stream",
     "text": [
      "[0.5807169895213528, 0.770875083500334, 0.8371186818213325, 0.8836562012914718, 0.9101536406145625, 0.9291917167668671, 0.9385437541750167, 0.9474504564552205, 0.9547984858606101, 0.962480516588733, 0.9663771988421287, 0.972166555332888, 0.9732798931195725, 0.9768425740369628, 0.9778445780449788, 0.9771765753729682, 0.981852594077043, 0.9814072589623691, 0.984858606087819, 0.986083277666444, 0.9855266087731017, 0.9868626141171232, 0.9869739478957916, 0.9888666221331552, 0.9874192830104653, 0.9881986194611445, 0.9885326207971499, 0.985860610095835, 0.9918726341572033, 0.9909819639278558, 0.9907592963705188, 0.9920953017145402, 0.9909819639278558, 0.9905366288131819, 0.9919839679358717, 0.99354264083723, 0.9920953017145402, 0.9930973057225563, 0.9910932977065242, 0.9927633043865509, 0.9924293030505456, 0.9923179692718771, 0.99354264083723, 0.992540636829214, 0.9940993097305723, 0.9952126475172567, 0.9937653083945669, 0.9948786461812514, 0.9926519706078825, 0.9940993097305723, 0.9942106435092407, 0.9954353150745936, 0.9924293030505456, 0.9940993097305723, 0.9951013137385882, 0.9940993097305723, 0.9946559786106425, 0.9930973057092842, 0.9959919839679359, 0.995769316410599]\n"
     ]
    }
   ],
   "source": [
    "print(history.history['acc'])"
   ]
  },
  {
   "cell_type": "code",
   "execution_count": 27,
   "metadata": {},
   "outputs": [
    {
     "name": "stdout",
     "output_type": "stream",
     "text": [
      "[1.082332550450758, 0.6321716375020213, 0.4418094058400192, 0.33486631872479566, 0.25559306463118425, 0.20829631611675795, 0.1718296265064512, 0.1545028260067492, 0.13161230795352943, 0.11434378665559819, 0.0982282172682801, 0.09151423255050485, 0.0803899608866474, 0.07168868463438477, 0.06976145808227266, 0.07174423404862502, 0.05884994397634477, 0.05596379228764602, 0.049419702387818634, 0.04979949060381274, 0.04701198780635393, 0.04286162260991043, 0.042550247074031225, 0.038331200832586426, 0.04043331841748747, 0.037672552464666116, 0.03560462349263306, 0.038884024182972224, 0.028412757318998196, 0.03149539934524079, 0.029778196225012404, 0.027079849073831482, 0.0292191160462437, 0.02800759522917293, 0.026741205982348342, 0.025852468960863247, 0.026777583108002014, 0.024512092787842794, 0.027784320775556755, 0.02515517094204253, 0.025012834556859594, 0.02521819122210048, 0.022301168110919003, 0.02552139724734356, 0.02206354803019323, 0.01877668760668571, 0.019470444929596563, 0.01865836794259786, 0.02152441911000747, 0.02110115584874051, 0.020320556518816143, 0.01776785397375411, 0.023171159280475653, 0.01855522673005006, 0.017279410326932657, 0.019293187275606014, 0.01871720943100894, 0.020873521692038145, 0.018049280292751026, 0.01721183696915386]\n"
     ]
    }
   ],
   "source": [
    "print(history.history['loss'])"
   ]
  },
  {
   "cell_type": "code",
   "execution_count": 28,
   "metadata": {},
   "outputs": [
    {
     "name": "stdout",
     "output_type": "stream",
     "text": [
      "2997/2997 [==============================] - 7s 2ms/step\n"
     ]
    },
    {
     "data": {
      "text/plain": [
       "array([0, 5, 1, ..., 0, 0, 1], dtype=int64)"
      ]
     },
     "execution_count": 28,
     "metadata": {},
     "output_type": "execute_result"
    }
   ],
   "source": [
    "pred = model.predict(x_test,verbose=1)\n",
    "y_pred = np.argmax(pred, axis = 1)\n",
    "y_pred"
   ]
  },
  {
   "cell_type": "code",
   "execution_count": 29,
   "metadata": {},
   "outputs": [],
   "source": [
    "def plot_confusion_matrix(cm, classes,\n",
    "                          normalize=False,\n",
    "                          title='Confusion matrix',\n",
    "                          cmap=plt.cm.Blues):\n",
    "    \"\"\"\n",
    "    This function prints and plots the confusion matrix.\n",
    "    Normalization can be applied by setting `normalize=True`.\n",
    "    \"\"\"\n",
    "    plt.imshow(cm, interpolation='nearest', cmap=cmap)\n",
    "    plt.title(title)\n",
    "    plt.colorbar()\n",
    "    tick_marks = np.arange(len(classes))\n",
    "    plt.xticks(tick_marks, classes, rotation=45)\n",
    "    plt.yticks(tick_marks, classes)\n",
    "\n",
    "    if normalize:\n",
    "        cm = cm.astype('float') / cm.sum(axis=1)[:, np.newaxis]\n",
    "        print(\"Normalized confusion matrix\")\n",
    "    else:\n",
    "        print('Confusion matrix, without normalization')\n",
    "\n",
    "    print(cm)\n",
    "\n",
    "    thresh = cm.max() / 2.\n",
    "    for i, j in itertools.product(range(cm.shape[0]), range(cm.shape[1])):\n",
    "        plt.text(j, i, cm[i, j],\n",
    "                 horizontalalignment=\"center\",\n",
    "                 color=\"white\" if cm[i, j] > thresh else \"black\")\n",
    "        \n",
    "\n",
    "    plt.tight_layout()\n",
    "    plt.ylabel('True label')\n",
    "    plt.xlabel('Predicted label')"
   ]
  },
  {
   "cell_type": "code",
   "execution_count": 30,
   "metadata": {},
   "outputs": [
    {
     "name": "stdout",
     "output_type": "stream",
     "text": [
      "Confusion matrix, without normalization\n",
      "[[509   0   0   0   0   0]\n",
      " [  0 699   3   0   1   0]\n",
      " [  0   0 610   0   0   0]\n",
      " [  0   0   0 387   0   0]\n",
      " [  0   2   0   0 292   0]\n",
      " [  0   0   0   0   0 494]]\n"
     ]
    },
    {
     "data": {
      "image/png": "[encoded data removed]",
      "text/plain": [
       "<Figure size 504x504 with 2 Axes>"
      ]
     },
     "metadata": {},
     "output_type": "display_data"
    }
   ],
   "source": [
    "cnf_matrix = (confusion_matrix(np.argmax(y_test,axis=1), y_pred))\n",
    "np.set_printoptions(precision=2)\n",
    "plt.figure(figsize=(7,7))\n",
    "plot_confusion_matrix(cnf_matrix, classes=target_names,\n",
    "                      title='Confusion matrix')"
   ]
  },
  {
   "cell_type": "code",
   "execution_count": 31,
   "metadata": {},
   "outputs": [
    {
     "name": "stdout",
     "output_type": "stream",
     "text": [
      "WARNING:tensorflow:From D:\\anaconda\\lib\\site-packages\\tensorflow\\python\\profiler\\internal\\flops_registry.py:142: tensor_shape_from_node_def_name (from tensorflow.python.framework.graph_util_impl) is deprecated and will be removed in a future version.\n",
      "Instructions for updating:\n",
      "Use `tf.compat.v1.graph_util.tensor_shape_from_node_def_name`\n",
      "FLOPs of tensorflow 1.12.0: 7112563\n"
     ]
    }
   ],
   "source": [
    "import tensorflow as tf\n",
    "import tensorflow.keras.backend as K\n",
    "\n",
    "def get_flops(model):\n",
    "    run_meta = tf.RunMetadata()\n",
    "    opts = tf.profiler.ProfileOptionBuilder.float_operation()\n",
    "\n",
    "    flops = tf.profiler.profile(graph=K.get_session().graph,\n",
    "                                run_meta=run_meta, cmd='op', options=opts)\n",
    " \n",
    "    return flops.total_float_ops\n",
    "\n",
    "if __name__ == \"__main__\":\n",
    "    x = K.random_normal(shape=(1, 1, 100, 256))\n",
    "    model = ShuffleNet_V2(x.shape)\n",
    "    print('FLOPs of tensorflow 1.12.0:', get_flops(model))\n"
   ]
  },
  {
   "cell_type": "code",
   "execution_count": null,
   "metadata": {},
   "outputs": [],
   "source": []
  }
 ],
 "metadata": {
  "kernelspec": {
   "display_name": "Python 3 (ipykernel)",
   "language": "python",
   "name": "python3"
  },
  "language_info": {
   "codemirror_mode": {
    "name": "ipython",
    "version": 3
   },
   "file_extension": ".py",
   "mimetype": "text/x-python",
   "name": "python",
   "nbconvert_exporter": "python",
   "pygments_lexer": "ipython3",
   "version": "3.9.13"
  }
 },
 "nbformat": 4,
 "nbformat_minor": 2
}
