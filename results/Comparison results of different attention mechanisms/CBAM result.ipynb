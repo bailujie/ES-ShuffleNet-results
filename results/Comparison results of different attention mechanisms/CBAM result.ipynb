{
 "cells": [
  {
   "cell_type": "code",
   "execution_count": 16,
   "metadata": {
    "scrolled": true
   },
   "outputs": [
    {
     "name": "stdout",
     "output_type": "stream",
     "text": [
      "WARNING:tensorflow:From D:\\anaconda\\lib\\site-packages\\tensorflow\\python\\ops\\math_grad.py:1250: add_dispatch_support.<locals>.wrapper (from tensorflow.python.ops.array_ops) is deprecated and will be removed in a future version.\n",
      "Instructions for updating:\n",
      "Use tf.where in 2.0, which has the same broadcast rule as np.where\n",
      "Epoch 1/60\n",
      "1123/1123 [==============================] - 198s 177ms/step - loss: 1.1715 - acc: 0.5585 - val_loss: 1.0780 - val_acc: 0.6093\n",
      "Epoch 2/60\n",
      "1123/1123 [==============================] - 95s 85ms/step - loss: 0.6587 - acc: 0.7554 - val_loss: 0.7849 - val_acc: 0.7130\n",
      "Epoch 3/60\n",
      "1123/1123 [==============================] - 95s 85ms/step - loss: 0.4846 - acc: 0.8239 - val_loss: 0.6542 - val_acc: 0.7437\n",
      "Epoch 4/60\n",
      "1123/1123 [==============================] - 94s 84ms/step - loss: 0.3838 - acc: 0.8612 - val_loss: 0.7056 - val_acc: 0.7494\n",
      "Epoch 5/60\n",
      "1123/1123 [==============================] - 94s 83ms/step - loss: 0.3150 - acc: 0.8887 - val_loss: 0.3355 - val_acc: 0.8789\n",
      "Epoch 6/60\n",
      "1123/1123 [==============================] - 95s 84ms/step - loss: 0.2739 - acc: 0.9047 - val_loss: 0.3016 - val_acc: 0.8902\n",
      "Epoch 7/60\n",
      "1123/1123 [==============================] - 93s 83ms/step - loss: 0.2277 - acc: 0.9233 - val_loss: 0.2546 - val_acc: 0.9049\n",
      "Epoch 8/60\n",
      "1123/1123 [==============================] - 93s 83ms/step - loss: 0.1929 - acc: 0.9345 - val_loss: 0.2360 - val_acc: 0.9109\n",
      "Epoch 9/60\n",
      "1123/1123 [==============================] - 95s 85ms/step - loss: 0.1776 - acc: 0.9400 - val_loss: 0.2850 - val_acc: 0.8882\n",
      "Epoch 10/60\n",
      "1123/1123 [==============================] - 94s 84ms/step - loss: 0.1558 - acc: 0.9488 - val_loss: 0.2112 - val_acc: 0.9256\n",
      "Epoch 11/60\n",
      "1123/1123 [==============================] - 94s 83ms/step - loss: 0.1448 - acc: 0.9492 - val_loss: 0.1314 - val_acc: 0.9536\n",
      "Epoch 12/60\n",
      "1123/1123 [==============================] - 95s 85ms/step - loss: 0.1340 - acc: 0.9558 - val_loss: 0.1033 - val_acc: 0.9656\n",
      "Epoch 13/60\n",
      "1123/1123 [==============================] - 95s 85ms/step - loss: 0.1156 - acc: 0.9612 - val_loss: 0.4393 - val_acc: 0.8478\n",
      "Epoch 14/60\n",
      "1123/1123 [==============================] - 119s 106ms/step - loss: 0.1176 - acc: 0.9594 - val_loss: 0.0648 - val_acc: 0.9803\n",
      "Epoch 15/60\n",
      "1123/1123 [==============================] - 109s 97ms/step - loss: 0.1034 - acc: 0.9671 - val_loss: 0.0744 - val_acc: 0.9746\n",
      "Epoch 16/60\n",
      "1123/1123 [==============================] - 98s 87ms/step - loss: 0.0965 - acc: 0.9679 - val_loss: 0.2500 - val_acc: 0.9203\n",
      "Epoch 17/60\n",
      "1123/1123 [==============================] - 98s 87ms/step - loss: 0.0924 - acc: 0.9697 - val_loss: 0.0613 - val_acc: 0.9843\n",
      "Epoch 18/60\n",
      "1123/1123 [==============================] - 100s 89ms/step - loss: 0.0880 - acc: 0.9707 - val_loss: 0.1042 - val_acc: 0.9596\n",
      "Epoch 19/60\n",
      "1123/1123 [==============================] - 98s 87ms/step - loss: 0.0877 - acc: 0.9704 - val_loss: 0.0788 - val_acc: 0.9733\n",
      "Epoch 20/60\n",
      "1123/1123 [==============================] - 97s 87ms/step - loss: 0.0761 - acc: 0.9754 - val_loss: 0.0669 - val_acc: 0.9803\n",
      "Epoch 21/60\n",
      "1123/1123 [==============================] - 100s 89ms/step - loss: 0.0783 - acc: 0.9766 - val_loss: 0.0494 - val_acc: 0.9853\n",
      "Epoch 22/60\n",
      "1123/1123 [==============================] - 98s 87ms/step - loss: 0.0687 - acc: 0.9783 - val_loss: 0.0567 - val_acc: 0.9837\n",
      "Epoch 23/60\n",
      "1123/1123 [==============================] - 98s 88ms/step - loss: 0.0649 - acc: 0.9798 - val_loss: 0.0558 - val_acc: 0.9790\n",
      "Epoch 24/60\n",
      "1123/1123 [==============================] - 100s 89ms/step - loss: 0.0646 - acc: 0.9793 - val_loss: 0.0574 - val_acc: 0.9816\n",
      "Epoch 25/60\n",
      "1123/1123 [==============================] - 98s 87ms/step - loss: 0.0628 - acc: 0.9790 - val_loss: 0.0423 - val_acc: 0.9870\n",
      "Epoch 26/60\n",
      "1123/1123 [==============================] - 97s 87ms/step - loss: 0.0557 - acc: 0.9828 - val_loss: 0.0537 - val_acc: 0.9806\n",
      "Epoch 27/60\n",
      "1123/1123 [==============================] - 99s 88ms/step - loss: 0.0527 - acc: 0.9844 - val_loss: 0.0515 - val_acc: 0.9860\n",
      "Epoch 28/60\n",
      "1123/1123 [==============================] - 99s 88ms/step - loss: 0.0525 - acc: 0.9849 - val_loss: 0.0358 - val_acc: 0.9890\n",
      "Epoch 29/60\n",
      "1123/1123 [==============================] - 97s 87ms/step - loss: 0.0525 - acc: 0.9832 - val_loss: 0.0326 - val_acc: 0.9907\n",
      "Epoch 30/60\n",
      "1123/1123 [==============================] - 98s 88ms/step - loss: 0.0532 - acc: 0.9833 - val_loss: 0.0307 - val_acc: 0.9930\n",
      "Epoch 31/60\n",
      "1123/1123 [==============================] - 99s 88ms/step - loss: 0.0499 - acc: 0.9850 - val_loss: 0.0434 - val_acc: 0.9867\n",
      "Epoch 32/60\n",
      "1123/1123 [==============================] - 98s 87ms/step - loss: 0.0457 - acc: 0.9878 - val_loss: 0.0259 - val_acc: 0.9950\n",
      "Epoch 33/60\n",
      "1123/1123 [==============================] - 98s 88ms/step - loss: 0.0432 - acc: 0.9870 - val_loss: 0.0344 - val_acc: 0.9907\n",
      "Epoch 34/60\n",
      "1123/1123 [==============================] - 99s 88ms/step - loss: 0.0494 - acc: 0.9833 - val_loss: 0.1770 - val_acc: 0.9359\n",
      "Epoch 35/60\n",
      "1123/1123 [==============================] - 97s 86ms/step - loss: 0.0437 - acc: 0.9868 - val_loss: 0.0411 - val_acc: 0.9870\n",
      "Epoch 36/60\n",
      "1123/1123 [==============================] - 98s 88ms/step - loss: 0.0396 - acc: 0.9879 - val_loss: 0.0243 - val_acc: 0.9937\n",
      "Epoch 37/60\n",
      "1123/1123 [==============================] - 98s 88ms/step - loss: 0.0397 - acc: 0.9871 - val_loss: 0.0269 - val_acc: 0.9930\n",
      "Epoch 38/60\n",
      "1123/1123 [==============================] - 99s 88ms/step - loss: 0.0398 - acc: 0.9884 - val_loss: 0.0390 - val_acc: 0.9873\n",
      "Epoch 39/60\n",
      "1123/1123 [==============================] - 98s 88ms/step - loss: 0.0441 - acc: 0.9855 - val_loss: 0.0287 - val_acc: 0.9910\n",
      "Epoch 40/60\n",
      "1123/1123 [==============================] - 98s 87ms/step - loss: 0.0368 - acc: 0.9894 - val_loss: 0.0276 - val_acc: 0.9937\n",
      "Epoch 41/60\n",
      "1123/1123 [==============================] - 99s 88ms/step - loss: 0.0454 - acc: 0.9861 - val_loss: 0.0199 - val_acc: 0.9943\n",
      "Epoch 42/60\n",
      "1123/1123 [==============================] - 99s 88ms/step - loss: 0.0387 - acc: 0.9894 - val_loss: 0.0195 - val_acc: 0.9967\n",
      "Epoch 43/60\n",
      "1123/1123 [==============================] - 97s 87ms/step - loss: 0.0364 - acc: 0.9901 - val_loss: 0.0233 - val_acc: 0.9947\n",
      "Epoch 44/60\n",
      "1123/1123 [==============================] - 98s 88ms/step - loss: 0.0358 - acc: 0.9896 - val_loss: 0.0217 - val_acc: 0.9943\n",
      "Epoch 45/60\n",
      "1123/1123 [==============================] - 99s 88ms/step - loss: 0.0321 - acc: 0.9907 - val_loss: 0.0188 - val_acc: 0.9947\n",
      "Epoch 46/60\n",
      "1123/1123 [==============================] - 97s 87ms/step - loss: 0.0383 - acc: 0.9872 - val_loss: 0.0259 - val_acc: 0.9927\n",
      "Epoch 47/60\n",
      "1123/1123 [==============================] - 99s 88ms/step - loss: 0.0354 - acc: 0.9901 - val_loss: 0.0249 - val_acc: 0.9950\n",
      "Epoch 48/60\n",
      "1123/1123 [==============================] - 100s 89ms/step - loss: 0.0341 - acc: 0.9911 - val_loss: 0.0213 - val_acc: 0.9937\n",
      "Epoch 49/60\n",
      "1123/1123 [==============================] - 98s 87ms/step - loss: 0.0358 - acc: 0.9894 - val_loss: 0.0227 - val_acc: 0.9940\n",
      "Epoch 50/60\n",
      "1123/1123 [==============================] - 98s 87ms/step - loss: 0.0315 - acc: 0.9902 - val_loss: 0.0144 - val_acc: 0.9967\n",
      "Epoch 51/60\n",
      "1123/1123 [==============================] - 100s 89ms/step - loss: 0.0345 - acc: 0.9903 - val_loss: 0.0169 - val_acc: 0.9960s - loss: 0.0342 - ac\n",
      "Epoch 52/60\n",
      "1123/1123 [==============================] - 98s 87ms/step - loss: 0.0293 - acc: 0.9917 - val_loss: 0.0209 - val_acc: 0.995793 - acc:  - ET\n",
      "Epoch 53/60\n",
      "1123/1123 [==============================] - 97s 87ms/step - loss: 0.0322 - acc: 0.9905 - val_loss: 0.0203 - val_acc: 0.9960\n",
      "Epoch 54/60\n",
      "1123/1123 [==============================] - 100s 89ms/step - loss: 0.0259 - acc: 0.9932 - val_loss: 0.0292 - val_acc: 0.9893\n",
      "Epoch 55/60\n",
      "1123/1123 [==============================] - 97s 87ms/step - loss: 0.0323 - acc: 0.9909 - val_loss: 0.0149 - val_acc: 0.9960\n",
      "Epoch 56/60\n",
      "1123/1123 [==============================] - 97s 86ms/step - loss: 0.0256 - acc: 0.9934 - val_loss: 0.0131 - val_acc: 0.9980\n",
      "Epoch 57/60\n",
      "1123/1123 [==============================] - 100s 89ms/step - loss: 0.0291 - acc: 0.9917 - val_loss: 0.0152 - val_acc: 0.9957\n",
      "Epoch 58/60\n",
      "1123/1123 [==============================] - 98s 87ms/step - loss: 0.0316 - acc: 0.9919 - val_loss: 0.0135 - val_acc: 0.9963\n",
      "Epoch 59/60\n",
      "1123/1123 [==============================] - 97s 87ms/step - loss: 0.0265 - acc: 0.9927 - val_loss: 0.0159 - val_acc: 0.9950\n",
      "Epoch 60/60\n",
      "1123/1123 [==============================] - 98s 88ms/step - loss: 0.0261 - acc: 0.9925 - val_loss: 0.0115 - val_acc: 0.9977\n"
     ]
    }
   ],
   "source": [
    "history = model.fit_generator(\n",
    "    aug.flow(x_train, y_train, batch_size=BS),\n",
    "    validation_data=(x_test, y_test),\n",
    "    steps_per_epoch=len(x_train) // BS,\n",
    "    epochs=60, verbose=1\n",
    "    \n",
    "    )"
   ]
  },
  {
   "cell_type": "code",
   "execution_count": 17,
   "metadata": {},
   "outputs": [],
   "source": [
    "import os\n",
    "import pandas as pd\n",
    "import numpy as np\n",
    "import matplotlib.pyplot as plt\n",
    "import csv"
   ]
  },
  {
   "cell_type": "code",
   "execution_count": 18,
   "metadata": {},
   "outputs": [
    {
     "data": {
      "image/png": "[encoded data removed]",
      "text/plain": [
       "<Figure size 432x288 with 1 Axes>"
      ]
     },
     "metadata": {},
     "output_type": "display_data"
    }
   ],
   "source": [
    "plt.plot(history.history['acc'])\n",
    "plt.plot(history.history['val_acc'])\n",
    "plt.title('model accuracy')\n",
    "plt.ylabel('accuracy')\n",
    "plt.xlabel('epochs')\n",
    "plt.legend(['train', 'valid'], loc='upper left')\n",
    "plt.show()"
   ]
  },
  {
   "cell_type": "code",
   "execution_count": 19,
   "metadata": {},
   "outputs": [
    {
     "data": {
      "image/png": "[encoded data removed]",
      "text/plain": [
       "<Figure size 432x288 with 1 Axes>"
      ]
     },
     "metadata": {},
     "output_type": "display_data"
    }
   ],
   "source": [
    "plt.plot(history.history['loss'])\n",
    "plt.plot(history.history['val_loss'])\n",
    "plt.title('model loss')\n",
    "plt.ylabel('loss')\n",
    "plt.xlabel('epoch')\n",
    "plt.legend(['train', 'valid'], loc='upper left')\n",
    "plt.show()"
   ]
  },
  {
   "cell_type": "code",
   "execution_count": 20,
   "metadata": {},
   "outputs": [
    {
     "name": "stdout",
     "output_type": "stream",
     "text": [
      "CONFUSION MATRIX ------------------\n",
      "[[509   0   0   0   0   0]\n",
      " [  1 701   0   0   1   0]\n",
      " [  1   0 609   0   0   0]\n",
      " [  0   0   0 387   0   0]\n",
      " [  0   3   0   0 291   0]\n",
      " [  0   0   0   1   0 493]]\n",
      "\n",
      "============TEST METRICS=============\n",
      "Accuracy: 99.76643309976645%\n",
      "Precision: 99.7671413696634%\n",
      "Recall: 99.76643309976645%\n",
      "F1-score: 99.76678723345788\n",
      "\n",
      "TRAIN METRIC ----------------------\n",
      "Train acc: 99.25\n"
     ]
    }
   ],
   "source": [
    "from sklearn.metrics import accuracy_score, confusion_matrix,f1_score, precision_score, recall_score\n",
    "\n",
    "Y_preds = model.predict(x_test)\n",
    "\n",
    "Y_preds = np.argmax(Y_preds, axis=1)\n",
    "Y_true = np.argmax(y_test, axis=1)\n",
    "\n",
    "acc = accuracy_score(np.round(Y_preds),Y_true)*100\n",
    "cm = confusion_matrix(Y_true, np.round(Y_preds))\n",
    "precision=precision_score(np.round(Y_preds),Y_true,average='weighted')*100\n",
    "recall=recall_score(np.round(Y_preds),Y_true,average='weighted')*100\n",
    "#tn, fp, fn, tp = cm.ravel()\n",
    "\n",
    "print('CONFUSION MATRIX ------------------')\n",
    "print(cm)\n",
    "\n",
    "print('\\n============TEST METRICS=============')\n",
    "#precision = tp/(tp+fp)*100\n",
    "#recall = tp/(tp+fn)*100\n",
    "print('Accuracy: {}%'.format(acc))\n",
    "print('Precision: {}%'.format(precision))\n",
    "print('Recall: {}%'.format(recall))\n",
    "print('F1-score: {}'.format(2*precision*recall/(precision+recall)))\n",
    "\n",
    "print('\\nTRAIN METRIC ----------------------')\n",
    "print('Train acc: {}'.format(np.round((history.history['acc'][-1])*100, 2)))"
   ]
  },
  {
   "cell_type": "code",
   "execution_count": 21,
   "metadata": {
    "scrolled": true
   },
   "outputs": [
    {
     "name": "stdout",
     "output_type": "stream",
     "text": [
      "                                     precision    recall  f1-score   support\n",
      "\n",
      "                        Commom rust       1.00      1.00      1.00       509\n",
      "                   Bipolaris maydis       1.00      1.00      1.00       703\n",
      "Curvularia lunata(wakker) boed spot       1.00      1.00      1.00       610\n",
      "               Northern leaf blight       1.00      1.00      1.00       387\n",
      "                           Own spot       1.00      0.99      0.99       294\n",
      "                      Sheath blight       1.00      1.00      1.00       494\n",
      "\n",
      "                           accuracy                           1.00      2997\n",
      "                          macro avg       1.00      1.00      1.00      2997\n",
      "                       weighted avg       1.00      1.00      1.00      2997\n",
      "\n"
     ]
    }
   ],
   "source": [
    "import numpy as np\n",
    "from sklearn.metrics import classification_report,confusion_matrix\n",
    "import itertools\n",
    "\n",
    "Y_pred = model.predict(x_test)\n",
    "y_pred = np.argmax(Y_pred, axis=1)\n",
    "target_names = [ 'Commom rust','Bipolaris maydis','Curvularia lunata(wakker) boed spot','Northern leaf blight','Own spot','Sheath blight']\n",
    "print(classification_report(np.argmax(y_test,axis=1), y_pred,target_names=target_names))"
   ]
  },
  {
   "cell_type": "code",
   "execution_count": 22,
   "metadata": {},
   "outputs": [
    {
     "name": "stdout",
     "output_type": "stream",
     "text": [
      "[INFO] Calculating model accuracy\n",
      "2997/2997 [==============================] - 6s 2ms/step\n",
      "Test Accuracy: 99.76643309976645\n"
     ]
    }
   ],
   "source": [
    "print(\"[INFO] Calculating model accuracy\")\n",
    "scores = model.evaluate(x_test, y_test)\n",
    "print(f\"Test Accuracy: {scores[1]*100}\")"
   ]
  },
  {
   "cell_type": "code",
   "execution_count": 23,
   "metadata": {},
   "outputs": [
    {
     "name": "stdout",
     "output_type": "stream",
     "text": [
      "2997/2997 [==============================] - 6s 2ms/step\n",
      "0.011450822664779656\n",
      "0.9976643309976644\n"
     ]
    }
   ],
   "source": [
    "test_loss,test_acc=model.evaluate(x_test,y_test)\n",
    "print(test_loss)\n",
    "print(test_acc)"
   ]
  },
  {
   "cell_type": "code",
   "execution_count": 24,
   "metadata": {},
   "outputs": [
    {
     "name": "stdout",
     "output_type": "stream",
     "text": [
      "[0.6092759426490522, 0.7130463797329345, 0.7437437437835199, 0.7494160827693042, 0.8788788788788788, 0.8902235568902236, 0.9049049049049049, 0.9109109109109109, 0.8882215549081096, 0.9255922589255923, 0.9536202869536203, 0.9656322989656323, 0.8478478478677359, 0.9803136469803136, 0.9746413079746413, 0.9202535869202536, 0.9843176509843177, 0.9596262929596263, 0.9733066399733067, 0.9803136469803136, 0.9853186519853186, 0.9836503169836504, 0.978978978978979, 0.9816483149816483, 0.986986986986987, 0.9806473139806473, 0.985985985985986, 0.988988988988989, 0.9906573239906573, 0.992992992992993, 0.9866533199866533, 0.994994994994995, 0.9906573239906573, 0.9359359359359359, 0.986986986986987, 0.9936603269936604, 0.992992992992993, 0.9873206539873206, 0.990990990990991, 0.9936603269936604, 0.9943276609943277, 0.9966633299966633, 0.9946613279946613, 0.9943276609943277, 0.9946613279946613, 0.9926593259926594, 0.994994994994995, 0.9936603269936604, 0.993993993993994, 0.9966633299966633, 0.995995995995996, 0.9956623289956623, 0.995995995995996, 0.9893226559893227, 0.995995995995996, 0.997997997997998, 0.9956623289956623, 0.9963296629963296, 0.994994994994995, 0.9976643309976644]\n"
     ]
    }
   ],
   "source": [
    "print(history.history['val_acc'])"
   ]
  },
  {
   "cell_type": "code",
   "execution_count": 25,
   "metadata": {},
   "outputs": [
    {
     "name": "stdout",
     "output_type": "stream",
     "text": [
      "[1.0779594081339934, 0.784939940875874, 0.6542443763147723, 0.7055950935856676, 0.3354616227037993, 0.30161924982641714, 0.25459644028374384, 0.23602306251630092, 0.28495616943090357, 0.21121460462920058, 0.13143476573666474, 0.10325672354550412, 0.43927973366168777, 0.06477972900747885, 0.07443603144004297, 0.2500041043816254, 0.06134224297423015, 0.10423993990045882, 0.07875668008314259, 0.06693334847907444, 0.049356917410804294, 0.05673346115075938, 0.055808806382389234, 0.05741312096304359, 0.04226080597469053, 0.05367846697875605, 0.05154374109229264, 0.03580137460342924, 0.03264307775959642, 0.030718653842293765, 0.04335943175053108, 0.025935346054114138, 0.03438487594279414, 0.1769500730802704, 0.04112606225641706, 0.024332289823852146, 0.026877957145636622, 0.0390069692124186, 0.02869862307516114, 0.02759403115352675, 0.01992274696447628, 0.019454301744240537, 0.02328562588762921, 0.0216691149708465, 0.018831444313216886, 0.02592582790617103, 0.024935955368766066, 0.021347995100746912, 0.0226847945901502, 0.014366498230863658, 0.01690511642673188, 0.020927608792590945, 0.020321008188943362, 0.029241542310837945, 0.014921966873479213, 0.013061844876442763, 0.015178628563499472, 0.013475507913364344, 0.015930176743798256, 0.011450822636331317]\n"
     ]
    }
   ],
   "source": [
    "print(history.history['val_loss'])"
   ]
  },
  {
   "cell_type": "code",
   "execution_count": 26,
   "metadata": {
    "scrolled": true
   },
   "outputs": [
    {
     "name": "stdout",
     "output_type": "stream",
     "text": [
      "[0.5584502338142072, 0.7553996882521478, 0.8238699621465152, 0.8612781117923858, 0.888666221331552, 0.9046982854598085, 0.9232910264841673, 0.9345357381296806, 0.9399910932977065, 0.9487864618125139, 0.9492317969271877, 0.9558004898553542, 0.9611445112447117, 0.9593631707860165, 0.9670452015141394, 0.9679358717434869, 0.9697172121889102, 0.9707192162101982, 0.9703852148609208, 0.975395234901001, 0.9766199064796259, 0.9782899131596526, 0.979848586047739, 0.9792919171676687, 0.9790692495970598, 0.982854598071787, 0.9844132709731452, 0.9848586061010911, 0.9831885994210644, 0.9832999331997327, 0.9849699398797596, 0.9877532843464707, 0.9869739478957916, 0.9832999331997327, 0.9867512803384547, 0.9878646181251391, 0.9870852816744601, 0.9884212870052094, 0.9855266087731017, 0.9894232910264974, 0.986083277666444, 0.9894232910264974, 0.9902026274904486, 0.9896459585838343, 0.9906479625918504, 0.9871966154531285, 0.9900912936985081, 0.9910932977065242, 0.9894232910264974, 0.9902048085485308, 0.9903118040089087, 0.9916499665998664, 0.9905366288131819, 0.9932101513802315, 0.9908685968819599, 0.9934313070585615, 0.9917613003652628, 0.9918726341572033, 0.9927633043732789, 0.992540636829214]\n"
     ]
    }
   ],
   "source": [
    "print(history.history['acc'])"
   ]
  },
  {
   "cell_type": "code",
   "execution_count": 27,
   "metadata": {},
   "outputs": [
    {
     "name": "stdout",
     "output_type": "stream",
     "text": [
      "[1.1715988400677375, 0.6586696694739225, 0.48462994017106764, 0.3838091637848799, 0.31498050376228726, 0.27399521310274755, 0.22760055787559408, 0.19289045266730764, 0.1776148952561155, 0.15581702852492688, 0.144836339817439, 0.13394906751484267, 0.11560130747681327, 0.11760563013896402, 0.1033972119477017, 0.09647822904445529, 0.09235781536109296, 0.0880097014743663, 0.08765594385416262, 0.07607802701237826, 0.07829458086883707, 0.068762992791362, 0.06482450568505616, 0.06463819420890249, 0.06279206304791034, 0.05561469127086688, 0.05269711910795932, 0.05246525105590331, 0.05253065042578238, 0.05316936992485415, 0.04990570544863177, 0.045757938768424135, 0.04316777557419795, 0.04943444473025862, 0.04370067626878089, 0.03963155302289497, 0.03968245229059409, 0.03977285012731327, 0.04414049192691579, 0.03676927221928249, 0.045434018271401616, 0.038731156498152994, 0.036140324044262914, 0.03575076891859891, 0.03211356147407674, 0.03827278516920346, 0.03541099735394614, 0.034151056403352996, 0.03574193241683587, 0.03145412532145802, 0.034538799413907154, 0.029280543425501078, 0.03224870325642005, 0.025860551913044275, 0.03227749781201221, 0.025563348844407682, 0.029044099475120592, 0.03156839320895456, 0.02648249128939045, 0.026143946885495307]\n"
     ]
    }
   ],
   "source": [
    "print(history.history['loss'])"
   ]
  },
  {
   "cell_type": "code",
   "execution_count": 28,
   "metadata": {},
   "outputs": [
    {
     "name": "stdout",
     "output_type": "stream",
     "text": [
      "2997/2997 [==============================] - 6s 2ms/step\n"
     ]
    },
    {
     "data": {
      "text/plain": [
       "array([0, 5, 1, ..., 0, 0, 1], dtype=int64)"
      ]
     },
     "execution_count": 28,
     "metadata": {},
     "output_type": "execute_result"
    }
   ],
   "source": [
    "pred = model.predict(x_test,verbose=1)\n",
    "y_pred = np.argmax(pred, axis = 1)\n",
    "y_pred"
   ]
  },
  {
   "cell_type": "code",
   "execution_count": 29,
   "metadata": {},
   "outputs": [],
   "source": [
    "def plot_confusion_matrix(cm, classes,\n",
    "                          normalize=False,\n",
    "                          title='Confusion matrix',\n",
    "                          cmap=plt.cm.Blues):\n",
    "    \"\"\"\n",
    "    This function prints and plots the confusion matrix.\n",
    "    Normalization can be applied by setting `normalize=True`.\n",
    "    \"\"\"\n",
    "    plt.imshow(cm, interpolation='nearest', cmap=cmap)\n",
    "    plt.title(title)\n",
    "    plt.colorbar()\n",
    "    tick_marks = np.arange(len(classes))\n",
    "    plt.xticks(tick_marks, classes, rotation=45)\n",
    "    plt.yticks(tick_marks, classes)\n",
    "\n",
    "    if normalize:\n",
    "        cm = cm.astype('float') / cm.sum(axis=1)[:, np.newaxis]\n",
    "        print(\"Normalized confusion matrix\")\n",
    "    else:\n",
    "        print('Confusion matrix, without normalization')\n",
    "\n",
    "    print(cm)\n",
    "\n",
    "    thresh = cm.max() / 2.\n",
    "    for i, j in itertools.product(range(cm.shape[0]), range(cm.shape[1])):\n",
    "        plt.text(j, i, cm[i, j],\n",
    "                 horizontalalignment=\"center\",\n",
    "                 color=\"white\" if cm[i, j] > thresh else \"black\")\n",
    "        \n",
    "\n",
    "    plt.tight_layout()\n",
    "    plt.ylabel('True label')\n",
    "    plt.xlabel('Predicted label')"
   ]
  },
  {
   "cell_type": "code",
   "execution_count": 30,
   "metadata": {},
   "outputs": [
    {
     "name": "stdout",
     "output_type": "stream",
     "text": [
      "Confusion matrix, without normalization\n",
      "[[509   0   0   0   0   0]\n",
      " [  1 701   0   0   1   0]\n",
      " [  1   0 609   0   0   0]\n",
      " [  0   0   0 387   0   0]\n",
      " [  0   3   0   0 291   0]\n",
      " [  0   0   0   1   0 493]]\n"
     ]
    },
    {
     "data": {
      "image/png": "[encoded data removed]",
      "text/plain": [
       "<Figure size 504x504 with 2 Axes>"
      ]
     },
     "metadata": {},
     "output_type": "display_data"
    }
   ],
   "source": [
    "cnf_matrix = (confusion_matrix(np.argmax(y_test,axis=1), y_pred))\n",
    "np.set_printoptions(precision=2)\n",
    "plt.figure(figsize=(7,7))\n",
    "plot_confusion_matrix(cnf_matrix, classes=target_names,\n",
    "                      title='Confusion matrix')"
   ]
  },
  {
   "cell_type": "code",
   "execution_count": 31,
   "metadata": {},
   "outputs": [
    {
     "name": "stdout",
     "output_type": "stream",
     "text": [
      "WARNING:tensorflow:From D:\\anaconda\\lib\\site-packages\\tensorflow\\python\\profiler\\internal\\flops_registry.py:142: tensor_shape_from_node_def_name (from tensorflow.python.framework.graph_util_impl) is deprecated and will be removed in a future version.\n",
      "Instructions for updating:\n",
      "Use `tf.compat.v1.graph_util.tensor_shape_from_node_def_name`\n",
      "FLOPs of tensorflow 1.12.0: 7112350\n"
     ]
    }
   ],
   "source": [
    "import tensorflow as tf\n",
    "import tensorflow.keras.backend as K\n",
    "\n",
    "def get_flops(model):\n",
    "    run_meta = tf.RunMetadata()\n",
    "    opts = tf.profiler.ProfileOptionBuilder.float_operation()\n",
    "\n",
    "    flops = tf.profiler.profile(graph=K.get_session().graph,\n",
    "                                run_meta=run_meta, cmd='op', options=opts)\n",
    " \n",
    "    return flops.total_float_ops\n",
    "\n",
    "if __name__ == \"__main__\":\n",
    "    x = K.random_normal(shape=(1, 1, 100, 256))\n",
    "    model = ShuffleNet_V2(x.shape)\n",
    "    print('FLOPs of tensorflow 1.12.0:', get_flops(model))\n"
   ]
  },
  {
   "cell_type": "code",
   "execution_count": null,
   "metadata": {},
   "outputs": [],
   "source": []
  }
 ],
 "metadata": {
  "kernelspec": {
   "display_name": "Python 3 (ipykernel)",
   "language": "python",
   "name": "python3"
  },
  "language_info": {
   "codemirror_mode": {
    "name": "ipython",
    "version": 3
   },
   "file_extension": ".py",
   "mimetype": "text/x-python",
   "name": "python",
   "nbconvert_exporter": "python",
   "pygments_lexer": "ipython3",
   "version": "3.9.13"
  }
 },
 "nbformat": 4,
 "nbformat_minor": 2
}
