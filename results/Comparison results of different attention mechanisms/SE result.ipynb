{
 "cells": [
  {
   "cell_type": "code",
   "execution_count": 16,
   "metadata": {
    "scrolled": true
   },
   "outputs": [
    {
     "name": "stdout",
     "output_type": "stream",
     "text": [
      "WARNING:tensorflow:From D:\\anaconda\\lib\\site-packages\\tensorflow\\python\\ops\\math_grad.py:1250: add_dispatch_support.<locals>.wrapper (from tensorflow.python.ops.array_ops) is deprecated and will be removed in a future version.\n",
      "Instructions for updating:\n",
      "Use tf.where in 2.0, which has the same broadcast rule as np.where\n",
      "Epoch 1/60\n",
      "1123/1123 [==============================] - 139s 123ms/step - loss: 1.1564 - acc: 0.5573 - val_loss: 1.1101 - val_acc: 0.5512\n",
      "Epoch 2/60\n",
      "1123/1123 [==============================] - 94s 84ms/step - loss: 0.6893 - acc: 0.7417 - val_loss: 0.9447 - val_acc: 0.6563\n",
      "Epoch 3/60\n",
      "1123/1123 [==============================] - 97s 86ms/step - loss: 0.4981 - acc: 0.8175 - val_loss: 1.6083 - val_acc: 0.5399\n",
      "Epoch 4/60\n",
      "1123/1123 [==============================] - 94s 84ms/step - loss: 0.3983 - acc: 0.8579 - val_loss: 1.0385 - val_acc: 0.6790\n",
      "Epoch 5/60\n",
      "1123/1123 [==============================] - 93s 83ms/step - loss: 0.3230 - acc: 0.8850 - val_loss: 1.1236 - val_acc: 0.6950\n",
      "Epoch 6/60\n",
      "1123/1123 [==============================] - 96s 85ms/step - loss: 0.2748 - acc: 0.9067 - val_loss: 0.3659 - val_acc: 0.8582\n",
      "Epoch 7/60\n",
      "1123/1123 [==============================] - 94s 84ms/step - loss: 0.2334 - acc: 0.9189 - val_loss: 0.4419 - val_acc: 0.8345\n",
      "Epoch 8/60\n",
      "1123/1123 [==============================] - 94s 84ms/step - loss: 0.2267 - acc: 0.9202 - val_loss: 0.4848 - val_acc: 0.8519\n",
      "Epoch 9/60\n",
      "1123/1123 [==============================] - 97s 86ms/step - loss: 0.1886 - acc: 0.9354 - val_loss: 0.1437 - val_acc: 0.9536\n",
      "Epoch 10/60\n",
      "1123/1123 [==============================] - 93s 83ms/step - loss: 0.1726 - acc: 0.9386 - val_loss: 0.1298 - val_acc: 0.9586\n",
      "Epoch 11/60\n",
      "1123/1123 [==============================] - 94s 83ms/step - loss: 0.1601 - acc: 0.9455 - val_loss: 0.1170 - val_acc: 0.9606\n",
      "Epoch 12/60\n",
      "1123/1123 [==============================] - 96s 86ms/step - loss: 0.1424 - acc: 0.9520 - val_loss: 0.1096 - val_acc: 0.9640\n",
      "Epoch 13/60\n",
      "1123/1123 [==============================] - 93s 83ms/step - loss: 0.1419 - acc: 0.9522 - val_loss: 0.1740 - val_acc: 0.9393\n",
      "Epoch 14/60\n",
      "1123/1123 [==============================] - 94s 83ms/step - loss: 0.1290 - acc: 0.9564 - val_loss: 0.1126 - val_acc: 0.9636\n",
      "Epoch 15/60\n",
      "1123/1123 [==============================] - 97s 86ms/step - loss: 0.1193 - acc: 0.9613 - val_loss: 0.1019 - val_acc: 0.9613\n",
      "Epoch 16/60\n",
      "1123/1123 [==============================] - 93s 83ms/step - loss: 0.1069 - acc: 0.9656 - val_loss: 0.3894 - val_acc: 0.8909\n",
      "Epoch 17/60\n",
      "1123/1123 [==============================] - 93s 83ms/step - loss: 0.1009 - acc: 0.9662 - val_loss: 0.0750 - val_acc: 0.9766\n",
      "Epoch 18/60\n",
      "1123/1123 [==============================] - 99s 88ms/step - loss: 0.0996 - acc: 0.9691 - val_loss: 0.0630 - val_acc: 0.9796\n",
      "Epoch 19/60\n",
      "1123/1123 [==============================] - 92s 82ms/step - loss: 0.0949 - acc: 0.9706 - val_loss: 0.0768 - val_acc: 0.9736\n",
      "Epoch 20/60\n",
      "1123/1123 [==============================] - 94s 83ms/step - loss: 0.0844 - acc: 0.9755 - val_loss: 0.0714 - val_acc: 0.9736\n",
      "Epoch 21/60\n",
      "1123/1123 [==============================] - 99s 88ms/step - loss: 0.0815 - acc: 0.9740 - val_loss: 0.0731 - val_acc: 0.9756\n",
      "Epoch 22/60\n",
      "1123/1123 [==============================] - 97s 87ms/step - loss: 0.0854 - acc: 0.9729 - val_loss: 0.0565 - val_acc: 0.9830\n",
      "Epoch 23/60\n",
      "1123/1123 [==============================] - 98s 87ms/step - loss: 0.0770 - acc: 0.9756 - val_loss: 0.0353 - val_acc: 0.9897\n",
      "Epoch 24/60\n",
      "1123/1123 [==============================] - 100s 89ms/step - loss: 0.0733 - acc: 0.9760 - val_loss: 0.1074 - val_acc: 0.9610\n",
      "Epoch 25/60\n",
      "1123/1123 [==============================] - 97s 87ms/step - loss: 0.0652 - acc: 0.9813 - val_loss: 0.0460 - val_acc: 0.9857\n",
      "Epoch 26/60\n",
      "1123/1123 [==============================] - 98s 87ms/step - loss: 0.0670 - acc: 0.9799 - val_loss: 0.0418 - val_acc: 0.9850\n",
      "Epoch 27/60\n",
      "1123/1123 [==============================] - 100s 89ms/step - loss: 0.0655 - acc: 0.9796 - val_loss: 0.0801 - val_acc: 0.9723\n",
      "Epoch 28/60\n",
      "1123/1123 [==============================] - 97s 86ms/step - loss: 0.0588 - acc: 0.9846 - val_loss: 0.0439 - val_acc: 0.9873\n",
      "Epoch 29/60\n",
      "1123/1123 [==============================] - 98s 87ms/step - loss: 0.0588 - acc: 0.9805 - val_loss: 0.0491 - val_acc: 0.9860\n",
      "Epoch 30/60\n",
      "1123/1123 [==============================] - 99s 88ms/step - loss: 0.0646 - acc: 0.9807 - val_loss: 0.0967 - val_acc: 0.9646\n",
      "Epoch 31/60\n",
      "1123/1123 [==============================] - 96s 86ms/step - loss: 0.0564 - acc: 0.9844 - val_loss: 0.0472 - val_acc: 0.9847\n",
      "Epoch 32/60\n",
      "1123/1123 [==============================] - 98s 87ms/step - loss: 0.0557 - acc: 0.9844 - val_loss: 0.0573 - val_acc: 0.9783\n",
      "Epoch 33/60\n",
      "1123/1123 [==============================] - 101s 90ms/step - loss: 0.0516 - acc: 0.9850 - val_loss: 0.0401 - val_acc: 0.9870\n",
      "Epoch 34/60\n",
      "1123/1123 [==============================] - 97s 86ms/step - loss: 0.0478 - acc: 0.9866 - val_loss: 0.0430 - val_acc: 0.9847\n",
      "Epoch 35/60\n",
      "1123/1123 [==============================] - 97s 86ms/step - loss: 0.0530 - acc: 0.9844 - val_loss: 0.0670 - val_acc: 0.9786\n",
      "Epoch 36/60\n",
      "1123/1123 [==============================] - 100s 89ms/step - loss: 0.0499 - acc: 0.9844 - val_loss: 0.0342 - val_acc: 0.9897\n",
      "Epoch 37/60\n",
      "1123/1123 [==============================] - 98s 87ms/step - loss: 0.0478 - acc: 0.9850 - val_loss: 0.0326 - val_acc: 0.9907\n",
      "Epoch 38/60\n",
      "1123/1123 [==============================] - 97s 86ms/step - loss: 0.0464 - acc: 0.9889 - val_loss: 0.0453 - val_acc: 0.9860\n",
      "Epoch 39/60\n",
      "1123/1123 [==============================] - 100s 89ms/step - loss: 0.0485 - acc: 0.9843 - val_loss: 0.0306 - val_acc: 0.9903\n",
      "Epoch 40/60\n",
      "1123/1123 [==============================] - 97s 87ms/step - loss: 0.0439 - acc: 0.9874 - val_loss: 0.0500 - val_acc: 0.9833\n",
      "Epoch 41/60\n",
      "1123/1123 [==============================] - 96s 85ms/step - loss: 0.0427 - acc: 0.9870 - val_loss: 0.0388 - val_acc: 0.9877\n",
      "Epoch 42/60\n",
      "1123/1123 [==============================] - 100s 89ms/step - loss: 0.0446 - acc: 0.9864 - val_loss: 0.0279 - val_acc: 0.9920\n",
      "Epoch 43/60\n",
      "1123/1123 [==============================] - 99s 88ms/step - loss: 0.0440 - acc: 0.9873 - val_loss: 0.0287 - val_acc: 0.9920\n",
      "Epoch 44/60\n",
      "1123/1123 [==============================] - 96s 86ms/step - loss: 0.0407 - acc: 0.9876 - val_loss: 0.0269 - val_acc: 0.9923\n",
      "Epoch 45/60\n",
      "1123/1123 [==============================] - 99s 88ms/step - loss: 0.0399 - acc: 0.9899 - val_loss: 0.0203 - val_acc: 0.9943\n",
      "Epoch 46/60\n",
      "1123/1123 [==============================] - 99s 88ms/step - loss: 0.0370 - acc: 0.9900 - val_loss: 0.0405 - val_acc: 0.9843\n",
      "Epoch 47/60\n",
      "1123/1123 [==============================] - 97s 86ms/step - loss: 0.0380 - acc: 0.9896 - val_loss: 0.0275 - val_acc: 0.9903\n",
      "Epoch 48/60\n",
      "1123/1123 [==============================] - 99s 89ms/step - loss: 0.0386 - acc: 0.9872 - val_loss: 0.0189 - val_acc: 0.9953\n",
      "Epoch 49/60\n",
      "1123/1123 [==============================] - 98s 88ms/step - loss: 0.0379 - acc: 0.9884 - val_loss: 0.0228 - val_acc: 0.9933\n",
      "Epoch 50/60\n",
      "1123/1123 [==============================] - 97s 86ms/step - loss: 0.0368 - acc: 0.9900 - val_loss: 0.0203 - val_acc: 0.9950\n",
      "Epoch 51/60\n",
      "1123/1123 [==============================] - 100s 89ms/step - loss: 0.0342 - acc: 0.9917 - val_loss: 0.0365 - val_acc: 0.9893\n",
      "Epoch 52/60\n",
      "1123/1123 [==============================] - 99s 88ms/step - loss: 0.0349 - acc: 0.9919 - val_loss: 0.0201 - val_acc: 0.9943\n",
      "Epoch 53/60\n",
      "1123/1123 [==============================] - 97s 86ms/step - loss: 0.0307 - acc: 0.9922 - val_loss: 0.0267 - val_acc: 0.9917\n",
      "Epoch 54/60\n",
      "1123/1123 [==============================] - 99s 88ms/step - loss: 0.0332 - acc: 0.9908 - val_loss: 0.0209 - val_acc: 0.9953\n",
      "Epoch 55/60\n",
      "1123/1123 [==============================] - 98s 87ms/step - loss: 0.0312 - acc: 0.9922 - val_loss: 0.0270 - val_acc: 0.9933\n",
      "Epoch 56/60\n",
      "1123/1123 [==============================] - 98s 87ms/step - loss: 0.0302 - acc: 0.9912 - val_loss: 0.0192 - val_acc: 0.9960\n",
      "Epoch 57/60\n",
      "1123/1123 [==============================] - 99s 88ms/step - loss: 0.0339 - acc: 0.9898 - val_loss: 0.0270 - val_acc: 0.9907\n",
      "Epoch 58/60\n",
      "1123/1123 [==============================] - 97s 86ms/step - loss: 0.0320 - acc: 0.9909 - val_loss: 0.0187 - val_acc: 0.9943\n",
      "Epoch 59/60\n",
      "1123/1123 [==============================] - 98s 87ms/step - loss: 0.0306 - acc: 0.9917 - val_loss: 0.0188 - val_acc: 0.9957\n",
      "Epoch 60/60\n",
      "1123/1123 [==============================] - 100s 89ms/step - loss: 0.0327 - acc: 0.9908 - val_loss: 0.0369 - val_acc: 0.9880\n"
     ]
    }
   ],
   "source": [
    "history = model.fit_generator(\n",
    "    aug.flow(x_train, y_train, batch_size=BS),\n",
    "    validation_data=(x_test, y_test),\n",
    "    steps_per_epoch=len(x_train) // BS,\n",
    "    epochs=60, verbose=1\n",
    "    \n",
    "    )"
   ]
  },
  {
   "cell_type": "code",
   "execution_count": 17,
   "metadata": {},
   "outputs": [],
   "source": [
    "import os\n",
    "import pandas as pd\n",
    "import numpy as np\n",
    "import matplotlib.pyplot as plt\n",
    "import csv"
   ]
  },
  {
   "cell_type": "code",
   "execution_count": 18,
   "metadata": {},
   "outputs": [
    {
     "data": {
      "image/png": "[encoded data removed]",
      "text/plain": [
       "<Figure size 432x288 with 1 Axes>"
      ]
     },
     "metadata": {},
     "output_type": "display_data"
    }
   ],
   "source": [
    "plt.plot(history.history['acc'])\n",
    "plt.plot(history.history['val_acc'])\n",
    "plt.title('model accuracy')\n",
    "plt.ylabel('accuracy')\n",
    "plt.xlabel('epochs')\n",
    "plt.legend(['train', 'valid'], loc='upper left')\n",
    "plt.show()"
   ]
  },
  {
   "cell_type": "code",
   "execution_count": 19,
   "metadata": {},
   "outputs": [
    {
     "data": {
      "image/png": "[encoded data removed]",
      "text/plain": [
       "<Figure size 432x288 with 1 Axes>"
      ]
     },
     "metadata": {},
     "output_type": "display_data"
    }
   ],
   "source": [
    "plt.plot(history.history['loss'])\n",
    "plt.plot(history.history['val_loss'])\n",
    "plt.title('model loss')\n",
    "plt.ylabel('loss')\n",
    "plt.xlabel('epoch')\n",
    "plt.legend(['train', 'valid'], loc='upper left')\n",
    "plt.show()"
   ]
  },
  {
   "cell_type": "code",
   "execution_count": 20,
   "metadata": {},
   "outputs": [
    {
     "name": "stdout",
     "output_type": "stream",
     "text": [
      "CONFUSION MATRIX ------------------\n",
      "[[495   2  12   0   0   0]\n",
      " [  2 688  13   0   0   0]\n",
      " [  0   0 610   0   0   0]\n",
      " [  0   0   0 387   0   0]\n",
      " [  0   4   0   1 289   0]\n",
      " [  1   0   0   1   0 492]]\n",
      "\n",
      "============TEST METRICS=============\n",
      "Accuracy: 98.7987987987988%\n",
      "Precision: 98.81840905393742%\n",
      "Recall: 98.7987987987988%\n",
      "F1-score: 98.80860295337058\n",
      "\n",
      "TRAIN METRIC ----------------------\n",
      "Train acc: 99.08\n"
     ]
    }
   ],
   "source": [
    "from sklearn.metrics import accuracy_score, confusion_matrix,f1_score, precision_score, recall_score\n",
    "\n",
    "Y_preds = model.predict(x_test)\n",
    "\n",
    "Y_preds = np.argmax(Y_preds, axis=1)\n",
    "Y_true = np.argmax(y_test, axis=1)\n",
    "\n",
    "acc = accuracy_score(np.round(Y_preds),Y_true)*100\n",
    "cm = confusion_matrix(Y_true, np.round(Y_preds))\n",
    "precision=precision_score(np.round(Y_preds),Y_true,average='weighted')*100\n",
    "recall=recall_score(np.round(Y_preds),Y_true,average='weighted')*100\n",
    "#tn, fp, fn, tp = cm.ravel()\n",
    "\n",
    "print('CONFUSION MATRIX ------------------')\n",
    "print(cm)\n",
    "\n",
    "print('\\n============TEST METRICS=============')\n",
    "#precision = tp/(tp+fp)*100\n",
    "#recall = tp/(tp+fn)*100\n",
    "print('Accuracy: {}%'.format(acc))\n",
    "print('Precision: {}%'.format(precision))\n",
    "print('Recall: {}%'.format(recall))\n",
    "print('F1-score: {}'.format(2*precision*recall/(precision+recall)))\n",
    "\n",
    "print('\\nTRAIN METRIC ----------------------')\n",
    "print('Train acc: {}'.format(np.round((history.history['acc'][-1])*100, 2)))"
   ]
  },
  {
   "cell_type": "code",
   "execution_count": 21,
   "metadata": {
    "scrolled": true
   },
   "outputs": [
    {
     "name": "stdout",
     "output_type": "stream",
     "text": [
      "                                     precision    recall  f1-score   support\n",
      "\n",
      "                        Commom rust       0.99      0.97      0.98       509\n",
      "                   Bipolaris maydis       0.99      0.98      0.98       703\n",
      "Curvularia lunata(wakker) boed spot       0.96      1.00      0.98       610\n",
      "               Northern leaf blight       0.99      1.00      1.00       387\n",
      "                           Own spot       1.00      0.98      0.99       294\n",
      "                      Sheath blight       1.00      1.00      1.00       494\n",
      "\n",
      "                           accuracy                           0.99      2997\n",
      "                          macro avg       0.99      0.99      0.99      2997\n",
      "                       weighted avg       0.99      0.99      0.99      2997\n",
      "\n"
     ]
    }
   ],
   "source": [
    "import numpy as np\n",
    "from sklearn.metrics import classification_report,confusion_matrix\n",
    "import itertools\n",
    "\n",
    "Y_pred = model.predict(x_test)\n",
    "y_pred = np.argmax(Y_pred, axis=1)\n",
    "target_names = [ 'Commom rust','Bipolaris maydis','Curvularia lunata(wakker) boed spot','Northern leaf blight','Own spot','Sheath blight']\n",
    "print(classification_report(np.argmax(y_test,axis=1), y_pred,target_names=target_names))"
   ]
  },
  {
   "cell_type": "code",
   "execution_count": 22,
   "metadata": {},
   "outputs": [
    {
     "name": "stdout",
     "output_type": "stream",
     "text": [
      "[INFO] Calculating model accuracy\n",
      "2997/2997 [==============================] - 6s 2ms/step\n",
      "Test Accuracy: 98.7987987987988\n"
     ]
    }
   ],
   "source": [
    "print(\"[INFO] Calculating model accuracy\")\n",
    "scores = model.evaluate(x_test, y_test)\n",
    "print(f\"Test Accuracy: {scores[1]*100}\")"
   ]
  },
  {
   "cell_type": "code",
   "execution_count": 23,
   "metadata": {},
   "outputs": [
    {
     "name": "stdout",
     "output_type": "stream",
     "text": [
      "2997/2997 [==============================] - 6s 2ms/step\n",
      "0.036918287450344506\n",
      "0.987987987987988\n"
     ]
    }
   ],
   "source": [
    "test_loss,test_acc=model.evaluate(x_test,y_test)\n",
    "print(test_loss)\n",
    "print(test_acc)"
   ]
  },
  {
   "cell_type": "code",
   "execution_count": 24,
   "metadata": {},
   "outputs": [
    {
     "name": "stdout",
     "output_type": "stream",
     "text": [
      "[0.5512178845909941, 0.656322989676211, 0.5398732065796494, 0.6790123456989005, 0.6950283617348045, 0.8581915248581915, 0.8345011678543893, 0.851851851891628, 0.9536202869536203, 0.9586252919586253, 0.9606272939606273, 0.963963963963964, 0.9392726059392726, 0.9636302969636303, 0.9612946279612946, 0.8908908909306671, 0.9766433099766433, 0.9796463129796463, 0.9736403069736403, 0.9736403069736403, 0.9756423089756423, 0.982982982982983, 0.9896563229896563, 0.960960960960961, 0.9856523189856523, 0.984984984984985, 0.9723056389723056, 0.9873206539873206, 0.985985985985986, 0.9646312979646313, 0.9846513179846513, 0.9783116449783117, 0.986986986986987, 0.9846513179846513, 0.9786453119786453, 0.9896563229896563, 0.9906573239906573, 0.985985985985986, 0.9903236569903237, 0.9833166499833167, 0.9876543209876543, 0.991991991991992, 0.991991991991992, 0.9923256589923256, 0.9943276609943277, 0.9843176509843177, 0.9903236569903237, 0.9953286619953287, 0.9933266599933267, 0.994994994994995, 0.9893226559893227, 0.9943276609943277, 0.9916583249916583, 0.9953286619953287, 0.9933266599933267, 0.995995995995996, 0.9906573239906573, 0.9943276609943277, 0.9956623289956623, 0.987987987987988]\n"
     ]
    }
   ],
   "source": [
    "print(history.history['val_acc'])"
   ]
  },
  {
   "cell_type": "code",
   "execution_count": 25,
   "metadata": {},
   "outputs": [
    {
     "name": "stdout",
     "output_type": "stream",
     "text": [
      "[1.11011105053895, 0.9446947095113315, 1.6082600854339701, 1.0384887397975415, 1.1235853706970984, 0.36593471747420014, 0.4418794087093593, 0.4848127078847922, 0.14370961015137249, 0.12981737857795742, 0.11696951848746569, 0.1095674225036894, 0.17395087202944415, 0.11264382217552986, 0.10194425667180224, 0.38937897278318506, 0.07500316222155734, 0.06298830634008498, 0.07676206260130572, 0.07140781262266137, 0.07314575010201184, 0.05648791084217836, 0.03525619667872471, 0.10744703070173263, 0.045988794904690725, 0.041836438953586255, 0.08009753748323939, 0.04388592046324113, 0.049053787716622735, 0.0966688070598055, 0.047243185427708285, 0.057264919054433754, 0.04006002797425638, 0.043047285610092474, 0.06697781995849508, 0.03417762321663798, 0.03262987910336148, 0.045317456096264384, 0.030594551916049532, 0.04995751799032817, 0.0388320809196453, 0.027929018147224184, 0.02867301545579149, 0.026902600533641956, 0.02032707454926663, 0.040451962346872046, 0.027474516867981226, 0.01892954871448224, 0.0228026312931713, 0.020334632750691473, 0.036546530176549505, 0.020149950587685095, 0.026651004375004256, 0.02094262339892331, 0.027035998002506206, 0.019159141882024562, 0.026989327998368694, 0.018717964923612405, 0.01875747752053962, 0.03691828745358798]\n"
     ]
    }
   ],
   "source": [
    "print(history.history['val_loss'])"
   ]
  },
  {
   "cell_type": "code",
   "execution_count": 26,
   "metadata": {
    "scrolled": true
   },
   "outputs": [
    {
     "name": "stdout",
     "output_type": "stream",
     "text": [
      "[0.5572255622355823, 0.7418169672745051, 0.8174126029837453, 0.8578267646403919, 0.8849922066354932, 0.9067022934758405, 0.9188376753507014, 0.9201736806947228, 0.9354264083723002, 0.9385437541750167, 0.9455577822178569, 0.9520151413806269, 0.9522378089379638, 0.9563571587619684, 0.9613671787887765, 0.9655978623781776, 0.9661545312847918, 0.9690492095301715, 0.9706078824315297, 0.9755065686929414, 0.9739478957915831, 0.9729458917702951, 0.9756179024716098, 0.9759519038076152, 0.9812959251837008, 0.9798485860610109, 0.979625918503674, 0.9846359385437542, 0.9805165887330216, 0.9807392562903585, 0.9844132709864173, 0.9844132709864173, 0.9849699398797596, 0.9866399465597863, 0.9844132709731452, 0.9844132709864173, 0.9849699398797596, 0.9888666221331552, 0.9843019371944768, 0.9874192830104653, 0.9869739478957916, 0.9864172790024494, 0.9873079492185249, 0.9876419505678022, 0.9898686261411712, 0.9899821905609973, 0.9896436525612472, 0.9871966154531285, 0.9884212870184814, 0.9899799599198397, 0.9916499665998664, 0.9919839679225997, 0.9922066354932086, 0.9907592963705188, 0.9922066354932086, 0.9912046314719206, 0.9897572923625028, 0.9908706301491873, 0.9916499665998664, 0.9907592963705188]\n"
     ]
    }
   ],
   "source": [
    "print(history.history['acc'])"
   ]
  },
  {
   "cell_type": "code",
   "execution_count": 27,
   "metadata": {},
   "outputs": [
    {
     "name": "stdout",
     "output_type": "stream",
     "text": [
      "[1.1565556233336947, 0.6890579613020626, 0.49814868165440135, 0.39831139139650235, 0.3230018172992932, 0.27487297738279937, 0.23339468586971754, 0.22670763804289246, 0.18858218250455688, 0.1726292244711755, 0.160105344545958, 0.1423471978262309, 0.1418800357393456, 0.12904963738964573, 0.11930137471466148, 0.10685954019363013, 0.10091480605040459, 0.09957641424319641, 0.09492424763271477, 0.08439862524056395, 0.08155385866390835, 0.08528503356449617, 0.07697782904335632, 0.0733205518364679, 0.06521831370860694, 0.0670097978898187, 0.06551648599816894, 0.05883020465054859, 0.058857990042853955, 0.06458781962988032, 0.056425333635398776, 0.05567751539579942, 0.051629568426486167, 0.04780055695086671, 0.052926888418566596, 0.04989640555965922, 0.047807989052300465, 0.04640252900227844, 0.04831530668524321, 0.04386254574745436, 0.04264545374373345, 0.04459317070010517, 0.043869193401454135, 0.04073503967083201, 0.03988554238119235, 0.03700696582108016, 0.037987868345816016, 0.03861175961184989, 0.037942897091521995, 0.03680776347748326, 0.03422823236250145, 0.03481917159714902, 0.030737514634463423, 0.033248039514808134, 0.031171773793266543, 0.03018060402720563, 0.03389467503489322, 0.03200900552314937, 0.030565162237215008, 0.032672920314948624]\n"
     ]
    }
   ],
   "source": [
    "print(history.history['loss'])"
   ]
  },
  {
   "cell_type": "code",
   "execution_count": 28,
   "metadata": {},
   "outputs": [
    {
     "name": "stdout",
     "output_type": "stream",
     "text": [
      "2997/2997 [==============================] - 6s 2ms/step\n"
     ]
    },
    {
     "data": {
      "text/plain": [
       "array([0, 5, 1, ..., 0, 0, 1], dtype=int64)"
      ]
     },
     "execution_count": 28,
     "metadata": {},
     "output_type": "execute_result"
    }
   ],
   "source": [
    "pred = model.predict(x_test,verbose=1)\n",
    "y_pred = np.argmax(pred, axis = 1)\n",
    "y_pred"
   ]
  },
  {
   "cell_type": "code",
   "execution_count": 29,
   "metadata": {},
   "outputs": [],
   "source": [
    "def plot_confusion_matrix(cm, classes,\n",
    "                          normalize=False,\n",
    "                          title='Confusion matrix',\n",
    "                          cmap=plt.cm.Blues):\n",
    "    \"\"\"\n",
    "    This function prints and plots the confusion matrix.\n",
    "    Normalization can be applied by setting `normalize=True`.\n",
    "    \"\"\"\n",
    "    plt.imshow(cm, interpolation='nearest', cmap=cmap)\n",
    "    plt.title(title)\n",
    "    plt.colorbar()\n",
    "    tick_marks = np.arange(len(classes))\n",
    "    plt.xticks(tick_marks, classes, rotation=45)\n",
    "    plt.yticks(tick_marks, classes)\n",
    "\n",
    "    if normalize:\n",
    "        cm = cm.astype('float') / cm.sum(axis=1)[:, np.newaxis]\n",
    "        print(\"Normalized confusion matrix\")\n",
    "    else:\n",
    "        print('Confusion matrix, without normalization')\n",
    "\n",
    "    print(cm)\n",
    "\n",
    "    thresh = cm.max() / 2.\n",
    "    for i, j in itertools.product(range(cm.shape[0]), range(cm.shape[1])):\n",
    "        plt.text(j, i, cm[i, j],\n",
    "                 horizontalalignment=\"center\",\n",
    "                 color=\"white\" if cm[i, j] > thresh else \"black\")\n",
    "        \n",
    "\n",
    "    plt.tight_layout()\n",
    "    plt.ylabel('True label')\n",
    "    plt.xlabel('Predicted label')"
   ]
  },
  {
   "cell_type": "code",
   "execution_count": 30,
   "metadata": {},
   "outputs": [
    {
     "name": "stdout",
     "output_type": "stream",
     "text": [
      "Confusion matrix, without normalization\n",
      "[[495   2  12   0   0   0]\n",
      " [  2 688  13   0   0   0]\n",
      " [  0   0 610   0   0   0]\n",
      " [  0   0   0 387   0   0]\n",
      " [  0   4   0   1 289   0]\n",
      " [  1   0   0   1   0 492]]\n"
     ]
    },
    {
     "data": {
      "image/png": "[encoded data removed]",
      "text/plain": [
       "<Figure size 504x504 with 2 Axes>"
      ]
     },
     "metadata": {},
     "output_type": "display_data"
    }
   ],
   "source": [
    "cnf_matrix = (confusion_matrix(np.argmax(y_test,axis=1), y_pred))\n",
    "np.set_printoptions(precision=2)\n",
    "plt.figure(figsize=(7,7))\n",
    "plot_confusion_matrix(cnf_matrix, classes=target_names,\n",
    "                      title='Confusion matrix')"
   ]
  },
  {
   "cell_type": "code",
   "execution_count": 31,
   "metadata": {},
   "outputs": [
    {
     "name": "stdout",
     "output_type": "stream",
     "text": [
      "WARNING:tensorflow:From D:\\anaconda\\lib\\site-packages\\tensorflow\\python\\profiler\\internal\\flops_registry.py:142: tensor_shape_from_node_def_name (from tensorflow.python.framework.graph_util_impl) is deprecated and will be removed in a future version.\n",
      "Instructions for updating:\n",
      "Use `tf.compat.v1.graph_util.tensor_shape_from_node_def_name`\n",
      "FLOPs of tensorflow 1.12.0: 7112548\n"
     ]
    }
   ],
   "source": [
    "import tensorflow as tf\n",
    "import tensorflow.keras.backend as K\n",
    "\n",
    "def get_flops(model):\n",
    "    run_meta = tf.RunMetadata()\n",
    "    opts = tf.profiler.ProfileOptionBuilder.float_operation()\n",
    "\n",
    "    flops = tf.profiler.profile(graph=K.get_session().graph,\n",
    "                                run_meta=run_meta, cmd='op', options=opts)\n",
    " \n",
    "    return flops.total_float_ops\n",
    "\n",
    "if __name__ == \"__main__\":\n",
    "    x = K.random_normal(shape=(1, 1, 100, 256))\n",
    "    model = ShuffleNet_V2(x.shape)\n",
    "    print('FLOPs of tensorflow 1.12.0:', get_flops(model))\n"
   ]
  },
  {
   "cell_type": "code",
   "execution_count": null,
   "metadata": {},
   "outputs": [],
   "source": []
  }
 ],
 "metadata": {
  "kernelspec": {
   "display_name": "Python 3 (ipykernel)",
   "language": "python",
   "name": "python3"
  },
  "language_info": {
   "codemirror_mode": {
    "name": "ipython",
    "version": 3
   },
   "file_extension": ".py",
   "mimetype": "text/x-python",
   "name": "python",
   "nbconvert_exporter": "python",
   "pygments_lexer": "ipython3",
   "version": "3.9.13"
  }
 },
 "nbformat": 4,
 "nbformat_minor": 2
}
