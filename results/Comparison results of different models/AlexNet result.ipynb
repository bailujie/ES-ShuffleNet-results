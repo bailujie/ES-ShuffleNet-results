{
 "cells": [
  {
   "cell_type": "code",
   "execution_count": 31,
   "metadata": {},
   "outputs": [
    {
     "name": "stdout",
     "output_type": "stream",
     "text": [
      "_________________________________________________________________\n",
      "Layer (type)                 Output Shape              Param #   \n",
      "=================================================================\n",
      "conv2d_6 (Conv2D)            (None, 62, 62, 96)        34944     \n",
      "_________________________________________________________________\n",
      "activation_9 (Activation)    (None, 62, 62, 96)        0         \n",
      "_________________________________________________________________\n",
      "max_pooling2d_4 (MaxPooling2 (None, 30, 30, 96)        0         \n",
      "_________________________________________________________________\n",
      "batch_normalization_6 (Batch (None, 30, 30, 96)        384       \n",
      "_________________________________________________________________\n",
      "conv2d_7 (Conv2D)            (None, 26, 26, 256)       614656    \n",
      "_________________________________________________________________\n",
      "activation_10 (Activation)   (None, 26, 26, 256)       0         \n",
      "_________________________________________________________________\n",
      "max_pooling2d_5 (MaxPooling2 (None, 12, 12, 256)       0         \n",
      "_________________________________________________________________\n",
      "batch_normalization_7 (Batch (None, 12, 12, 256)       1024      \n",
      "_________________________________________________________________\n",
      "conv2d_8 (Conv2D)            (None, 10, 10, 384)       885120    \n",
      "_________________________________________________________________\n",
      "activation_11 (Activation)   (None, 10, 10, 384)       0         \n",
      "_________________________________________________________________\n",
      "conv2d_9 (Conv2D)            (None, 8, 8, 384)         1327488   \n",
      "_________________________________________________________________\n",
      "activation_12 (Activation)   (None, 8, 8, 384)         0         \n",
      "_________________________________________________________________\n",
      "conv2d_10 (Conv2D)           (None, 6, 6, 256)         884992    \n",
      "_________________________________________________________________\n",
      "activation_13 (Activation)   (None, 6, 6, 256)         0         \n",
      "_________________________________________________________________\n",
      "max_pooling2d_6 (MaxPooling2 (None, 2, 2, 256)         0         \n",
      "_________________________________________________________________\n",
      "batch_normalization_8 (Batch (None, 2, 2, 256)         1024      \n",
      "_________________________________________________________________\n",
      "flatten_2 (Flatten)          (None, 1024)              0         \n",
      "_________________________________________________________________\n",
      "dense_4 (Dense)              (None, 4096)              4198400   \n",
      "_________________________________________________________________\n",
      "activation_14 (Activation)   (None, 4096)              0         \n",
      "_________________________________________________________________\n",
      "dropout_3 (Dropout)          (None, 4096)              0         \n",
      "_________________________________________________________________\n",
      "batch_normalization_9 (Batch (None, 4096)              16384     \n",
      "_________________________________________________________________\n",
      "dense_5 (Dense)              (None, 4096)              16781312  \n",
      "_________________________________________________________________\n",
      "activation_15 (Activation)   (None, 4096)              0         \n",
      "_________________________________________________________________\n",
      "dropout_4 (Dropout)          (None, 4096)              0         \n",
      "_________________________________________________________________\n",
      "batch_normalization_10 (Batc (None, 4096)              16384     \n",
      "_________________________________________________________________\n",
      "dense_6 (Dense)              (None, 6)                 24582     \n",
      "_________________________________________________________________\n",
      "activation_16 (Activation)   (None, 6)                 0         \n",
      "=================================================================\n",
      "Total params: 24,786,694\n",
      "Trainable params: 24,769,094\n",
      "Non-trainable params: 17,600\n",
      "_________________________________________________________________\n"
     ]
    }
   ],
   "source": [
    "model = Sequential()\n",
    "\n",
    "# 1st Convolutional Layer\n",
    "model.add(Conv2D(filters=96,input_shape=(256,256,3), kernel_size=(11,11),\\\n",
    " strides=(4,4), padding='valid'))\n",
    "model.add(Activation('relu'))\n",
    "# Pooling \n",
    "model.add(MaxPooling2D(pool_size=(3,3), strides=(2,2), padding='valid'))\n",
    "# Batch Normalisation before passing it to the next layer\n",
    "model.add(BatchNormalization())\n",
    "\n",
    "# 2nd Convolutional Layer\n",
    "model.add(Conv2D(filters=256, kernel_size=(5,5), strides=(1,1), padding='valid'))\n",
    "model.add(Activation('relu'))\n",
    "# Pooling\n",
    "model.add(MaxPooling2D(pool_size=(3,3), strides=(2,2), padding='valid'))\n",
    "# Batch Normalisation\n",
    "model.add(BatchNormalization())\n",
    "\n",
    "# 3rd Convolutional Layer\n",
    "model.add(Conv2D(filters=384, kernel_size=(3,3), strides=(1,1), padding='valid'))\n",
    "model.add(Activation('relu'))\n",
    "# Batch Normalisation\n",
    "#model.add(BatchNormalization())\n",
    "\n",
    "# 4th Convolutional Layer\n",
    "model.add(Conv2D(filters=384, kernel_size=(3,3), strides=(1,1), padding='valid'))\n",
    "model.add(Activation('relu'))\n",
    "# Batch Normalisation\n",
    "#model.add(BatchNormalization())\n",
    "\n",
    "# 5th Convolutional Layer\n",
    "model.add(Conv2D(filters=256, kernel_size=(3,3), strides=(1,1), padding='valid'))\n",
    "model.add(Activation('relu'))\n",
    "# Pooling\n",
    "model.add(MaxPooling2D(pool_size=(3,3), strides=(2,2), padding='valid'))\n",
    "# Batch Normalisation\n",
    "model.add(BatchNormalization())\n",
    "\n",
    "# Passing it to a dense layer\n",
    "model.add(Flatten())\n",
    "# 1st Dense Layer\n",
    "model.add(Dense(4096))\n",
    "model.add(Activation('relu'))\n",
    "# Add Dropout to prevent overfitting\n",
    "model.add(Dropout(0.4))\n",
    "# Batch Normalisation\n",
    "model.add(BatchNormalization())\n",
    "\n",
    "# 2nd Dense Layer\n",
    "model.add(Dense(4096))\n",
    "model.add(Activation('relu'))\n",
    "# Add Dropout\n",
    "model.add(Dropout(0.4))\n",
    "# Batch Normalisation\n",
    "model.add(BatchNormalization())\n",
    "\n",
    "# Output Layer\n",
    "model.add(Dense(6))\n",
    "model.add(Activation('softmax'))\n",
    "\n",
    "\n",
    "model.summary()"
   ]
  },
  {
   "cell_type": "code",
   "execution_count": 13,
   "metadata": {},
   "outputs": [
    {
     "name": "stdout",
     "output_type": "stream",
     "text": [
      "WARNING:tensorflow:From D:\\anaconda\\lib\\site-packages\\keras\\optimizers.py:790: The name tf.train.Optimizer is deprecated. Please use tf.compat.v1.train.Optimizer instead.\n",
      "\n"
     ]
    }
   ],
   "source": [
    "import tensorflow as tf\n",
    "import time\n",
    "from keras import optimizers\n",
    "opt = optimizers.SGD(lr=1e-2, momentum=0.9,decay=0.0008)\n",
    "#opt = Adam(lr=INIT_LR,decay=INIT_LR / EPOCHS)\n",
    "model.compile(loss='categorical_crossentropy', optimizer=opt, metrics=['accuracy'])  #CrossEntropyLoss  'categorical_crossentropy'\n",
    "from keras.callbacks import ReduceLROnPlateau\n",
    "lr_reducer = ReduceLROnPlateau(monitor='val_accuracy', factor=0.5, patience=3)"
   ]
  },
  {
   "cell_type": "code",
   "execution_count": 14,
   "metadata": {
    "scrolled": true
   },
   "outputs": [
    {
     "name": "stdout",
     "output_type": "stream",
     "text": [
      "WARNING:tensorflow:From D:\\anaconda\\lib\\site-packages\\tensorflow\\python\\ops\\math_grad.py:1250: add_dispatch_support.<locals>.wrapper (from tensorflow.python.ops.array_ops) is deprecated and will be removed in a future version.\n",
      "Instructions for updating:\n",
      "Use tf.where in 2.0, which has the same broadcast rule as np.where\n",
      "Epoch 1/60\n",
      "   4/1123 [..............................] - ETA: 3:20:30 - loss: 2.5441 - acc: 0.1875"
     ]
    },
    {
     "name": "stderr",
     "output_type": "stream",
     "text": [
      "D:\\anaconda\\lib\\site-packages\\keras\\callbacks.py:122: UserWarning: Method on_batch_end() is slow compared to the batch update (0.289009). Check your callbacks.\n",
      "  % delta_t_median)\n"
     ]
    },
    {
     "name": "stdout",
     "output_type": "stream",
     "text": [
      "1123/1123 [==============================] - 176s 156ms/step - loss: 12.2563 - acc: 0.2102 - val_loss: 11.9312 - val_acc: 0.2442\n",
      "Epoch 2/60\n",
      "1123/1123 [==============================] - 94s 84ms/step - loss: 11.2099 - acc: 0.2648 - val_loss: 10.1594 - val_acc: 0.3143\n",
      "Epoch 3/60\n",
      "1123/1123 [==============================] - 93s 83ms/step - loss: 9.9267 - acc: 0.3075 - val_loss: 8.3237 - val_acc: 0.3393\n",
      "Epoch 4/60\n",
      "1123/1123 [==============================] - 93s 83ms/step - loss: 8.3941 - acc: 0.3368 - val_loss: 5.9035 - val_acc: 0.3747\n",
      "Epoch 5/60\n",
      "1123/1123 [==============================] - 93s 83ms/step - loss: 7.5423 - acc: 0.3514 - val_loss: 6.0505 - val_acc: 0.4368\n",
      "Epoch 6/60\n",
      "1123/1123 [==============================] - 93s 83ms/step - loss: 7.0335 - acc: 0.3526 - val_loss: 4.8627 - val_acc: 0.4084\n",
      "Epoch 7/60\n",
      "1123/1123 [==============================] - 92s 82ms/step - loss: 7.0336 - acc: 0.3012 - val_loss: 3.5499 - val_acc: 0.4194\n",
      "Epoch 8/60\n",
      "1123/1123 [==============================] - 93s 82ms/step - loss: 6.0664 - acc: 0.3117 - val_loss: 4.4643 - val_acc: 0.4137\n",
      "Epoch 9/60\n",
      "1123/1123 [==============================] - 92s 82ms/step - loss: 5.3289 - acc: 0.3122 - val_loss: 3.4982 - val_acc: 0.4454\n",
      "Epoch 10/60\n",
      "1123/1123 [==============================] - 92s 82ms/step - loss: 4.7950 - acc: 0.3170 - val_loss: 2.2849 - val_acc: 0.4735\n",
      "Epoch 11/60\n",
      "1123/1123 [==============================] - 92s 82ms/step - loss: 4.1995 - acc: 0.3289 - val_loss: 2.5962 - val_acc: 0.4124\n",
      "Epoch 12/60\n",
      "1123/1123 [==============================] - 105s 93ms/step - loss: 3.6673 - acc: 0.3318 - val_loss: 2.1094 - val_acc: 0.4508\n",
      "Epoch 13/60\n",
      "1123/1123 [==============================] - 105s 94ms/step - loss: 3.2985 - acc: 0.3343 - val_loss: 2.1532 - val_acc: 0.4855\n",
      "Epoch 14/60\n",
      "1123/1123 [==============================] - 100s 89ms/step - loss: 2.8991 - acc: 0.3434 - val_loss: 1.6961 - val_acc: 0.4665\n",
      "Epoch 15/60\n",
      "1123/1123 [==============================] - 101s 90ms/step - loss: 2.6447 - acc: 0.3534 - val_loss: 1.6569 - val_acc: 0.5048\n",
      "Epoch 16/60\n",
      "1123/1123 [==============================] - 102s 91ms/step - loss: 2.4680 - acc: 0.3528 - val_loss: 1.6583 - val_acc: 0.4902\n",
      "Epoch 17/60\n",
      "1123/1123 [==============================] - 100s 89ms/step - loss: 2.2728 - acc: 0.3621 - val_loss: 1.7109 - val_acc: 0.475830 - acc: 0.\n",
      "Epoch 18/60\n",
      "1123/1123 [==============================] - 101s 90ms/step - loss: 2.0983 - acc: 0.3801 - val_loss: 1.3585 - val_acc: 0.5379\n",
      "Epoch 19/60\n",
      "1123/1123 [==============================] - 101s 90ms/step - loss: 2.0178 - acc: 0.3796 - val_loss: 1.2828 - val_acc: 0.5155\n",
      "Epoch 20/60\n",
      "1123/1123 [==============================] - 100s 89ms/step - loss: 1.9098 - acc: 0.3952 - val_loss: 1.3480 - val_acc: 0.5385\n",
      "Epoch 21/60\n",
      "1123/1123 [==============================] - 101s 90ms/step - loss: 1.8357 - acc: 0.3991 - val_loss: 1.2050 - val_acc: 0.5612\n",
      "Epoch 22/60\n",
      "1123/1123 [==============================] - 100s 89ms/step - loss: 1.8013 - acc: 0.4073 - val_loss: 1.3539 - val_acc: 0.4608\n",
      "Epoch 23/60\n",
      "1123/1123 [==============================] - 100s 89ms/step - loss: 1.7458 - acc: 0.4111 - val_loss: 1.1636 - val_acc: 0.5799\n",
      "Epoch 24/60\n",
      "1123/1123 [==============================] - 100s 89ms/step - loss: 1.6718 - acc: 0.4163 - val_loss: 1.1928 - val_acc: 0.5689\n",
      "Epoch 25/60\n",
      "1123/1123 [==============================] - 101s 90ms/step - loss: 1.6603 - acc: 0.4173 - val_loss: 1.1936 - val_acc: 0.5849\n",
      "Epoch 26/60\n",
      "1123/1123 [==============================] - 100s 89ms/step - loss: 1.6285 - acc: 0.4210 - val_loss: 1.1520 - val_acc: 0.5499\n",
      "Epoch 27/60\n",
      "1123/1123 [==============================] - 100s 89ms/step - loss: 1.5733 - acc: 0.4282 - val_loss: 1.2163 - val_acc: 0.5322\n",
      "Epoch 28/60\n",
      "1123/1123 [==============================] - 101s 90ms/step - loss: 1.5454 - acc: 0.4434 - val_loss: 1.3007 - val_acc: 0.4928\n",
      "Epoch 29/60\n",
      "1123/1123 [==============================] - 100s 89ms/step - loss: 1.5783 - acc: 0.4360 - val_loss: 1.4959 - val_acc: 0.5128\n",
      "Epoch 30/60\n",
      "1123/1123 [==============================] - 100s 89ms/step - loss: 1.5103 - acc: 0.4433 - val_loss: 1.2183 - val_acc: 0.5616\n",
      "Epoch 31/60\n",
      "1123/1123 [==============================] - 102s 91ms/step - loss: 1.4921 - acc: 0.4435 - val_loss: 1.0914 - val_acc: 0.5802\n",
      "Epoch 32/60\n",
      "1123/1123 [==============================] - 100s 89ms/step - loss: 1.4786 - acc: 0.4535 - val_loss: 1.0814 - val_acc: 0.5926\n",
      "Epoch 33/60\n",
      "1123/1123 [==============================] - 101s 90ms/step - loss: 1.4528 - acc: 0.4596 - val_loss: 1.2594 - val_acc: 0.5779\n",
      "Epoch 34/60\n",
      "1123/1123 [==============================] - 100s 89ms/step - loss: 1.4337 - acc: 0.4589 - val_loss: 1.1477 - val_acc: 0.5846- loss: 1.4346 - ac\n",
      "Epoch 35/60\n",
      "1123/1123 [==============================] - 101s 90ms/step - loss: 1.4208 - acc: 0.4647 - val_loss: 1.1257 - val_acc: 0.6013\n",
      "Epoch 36/60\n",
      "1123/1123 [==============================] - 101s 90ms/step - loss: 1.4163 - acc: 0.4649 - val_loss: 1.1064 - val_acc: 0.5669\n",
      "Epoch 37/60\n",
      "1123/1123 [==============================] - 100s 89ms/step - loss: 1.3897 - acc: 0.4641 - val_loss: 1.1869 - val_acc: 0.5879\n",
      "Epoch 38/60\n",
      "1123/1123 [==============================] - 101s 90ms/step - loss: 1.3787 - acc: 0.4763 - val_loss: 1.0552 - val_acc: 0.6106acc: \n",
      "Epoch 39/60\n",
      "1123/1123 [==============================] - 99s 88ms/step - loss: 1.3778 - acc: 0.4821 - val_loss: 1.0951 - val_acc: 0.6009\n",
      "Epoch 40/60\n",
      "1123/1123 [==============================] - 100s 89ms/step - loss: 1.3618 - acc: 0.4840 - val_loss: 1.0709 - val_acc: 0.6013\n",
      "Epoch 41/60\n",
      "1123/1123 [==============================] - 100s 89ms/step - loss: 1.3621 - acc: 0.4747 - val_loss: 1.2742 - val_acc: 0.5422\n",
      "Epoch 42/60\n",
      "1123/1123 [==============================] - 99s 88ms/step - loss: 1.3494 - acc: 0.4812 - val_loss: 1.0759 - val_acc: 0.6056\n",
      "Epoch 43/60\n",
      "1123/1123 [==============================] - 101s 90ms/step - loss: 1.3506 - acc: 0.4820 - val_loss: 1.2048 - val_acc: 0.5949\n",
      "Epoch 44/60\n",
      "1123/1123 [==============================] - 100s 89ms/step - loss: 1.3280 - acc: 0.4907 - val_loss: 1.1586 - val_acc: 0.5949\n",
      "Epoch 45/60\n",
      "1123/1123 [==============================] - 100s 89ms/step - loss: 1.3181 - acc: 0.4956 - val_loss: 1.1138 - val_acc: 0.5866\n",
      "Epoch 46/60\n",
      "1123/1123 [==============================] - 100s 89ms/step - loss: 1.3356 - acc: 0.4856 - val_loss: 1.2223 - val_acc: 0.5536\n",
      "Epoch 47/60\n",
      "1123/1123 [==============================] - 99s 88ms/step - loss: 1.3157 - acc: 0.4888 - val_loss: 1.3120 - val_acc: 0.5295\n",
      "Epoch 48/60\n",
      "1123/1123 [==============================] - 101s 90ms/step - loss: 1.3045 - acc: 0.4977 - val_loss: 1.0168 - val_acc: 0.6276\n",
      "Epoch 49/60\n",
      "1123/1123 [==============================] - 101s 90ms/step - loss: 1.3117 - acc: 0.4892 - val_loss: 1.0914 - val_acc: 0.5963\n",
      "Epoch 50/60\n",
      "1123/1123 [==============================] - 101s 90ms/step - loss: 1.2945 - acc: 0.4918 - val_loss: 1.0192 - val_acc: 0.6176\n",
      "Epoch 51/60\n",
      "1123/1123 [==============================] - 101s 90ms/step - loss: 1.2819 - acc: 0.4991 - val_loss: 1.1228 - val_acc: 0.6053\n",
      "Epoch 52/60\n",
      "1123/1123 [==============================] - 100s 89ms/step - loss: 1.2733 - acc: 0.5029 - val_loss: 1.0912 - val_acc: 0.6166\n",
      "Epoch 53/60\n",
      "1123/1123 [==============================] - 101s 90ms/step - loss: 1.2853 - acc: 0.5062 - val_loss: 1.0489 - val_acc: 0.6069\n",
      "Epoch 54/60\n",
      "1123/1123 [==============================] - 101s 90ms/step - loss: 1.2883 - acc: 0.5006 - val_loss: 1.1034 - val_acc: 0.5966\n",
      "Epoch 55/60\n",
      "1123/1123 [==============================] - 101s 90ms/step - loss: 1.2736 - acc: 0.5089 - val_loss: 1.0363 - val_acc: 0.6200\n",
      "Epoch 56/60\n",
      "1123/1123 [==============================] - 100s 89ms/step - loss: 1.2708 - acc: 0.5026 - val_loss: 1.0958 - val_acc: 0.6023\n",
      "Epoch 57/60\n",
      "1123/1123 [==============================] - 100s 89ms/step - loss: 1.2598 - acc: 0.5090 - val_loss: 0.9943 - val_acc: 0.6253\n",
      "Epoch 58/60\n",
      "1123/1123 [==============================] - 101s 90ms/step - loss: 1.2549 - acc: 0.5108 - val_loss: 1.0392 - val_acc: 0.6310\n",
      "Epoch 59/60\n",
      "1123/1123 [==============================] - 100s 89ms/step - loss: 1.2662 - acc: 0.5095 - val_loss: 0.9883 - val_acc: 0.6503\n",
      "Epoch 60/60\n",
      "1123/1123 [==============================] - 101s 90ms/step - loss: 1.2584 - acc: 0.5083 - val_loss: 1.0640 - val_acc: 0.6350\n"
     ]
    }
   ],
   "source": [
    "history = model.fit_generator(\n",
    "    aug.flow(x_train, y_train, batch_size=BS),\n",
    "    validation_data=(x_test, y_test),\n",
    "    steps_per_epoch=len(x_train) // BS,\n",
    "    epochs=60, verbose=1\n",
    "    \n",
    "    )"
   ]
  },
  {
   "cell_type": "code",
   "execution_count": 15,
   "metadata": {},
   "outputs": [],
   "source": [
    "import os\n",
    "import pandas as pd\n",
    "import numpy as np\n",
    "import matplotlib.pyplot as plt\n",
    "import csv"
   ]
  },
  {
   "cell_type": "code",
   "execution_count": 16,
   "metadata": {},
   "outputs": [
    {
     "data": {
      "image/png": "[encoded data removed]",
      "text/plain": [
       "<Figure size 432x288 with 1 Axes>"
      ]
     },
     "metadata": {},
     "output_type": "display_data"
    }
   ],
   "source": [
    "plt.plot(history.history['acc'])\n",
    "plt.plot(history.history['val_acc'])\n",
    "plt.title('model accuracy')\n",
    "plt.ylabel('accuracy')\n",
    "plt.xlabel('epochs')\n",
    "plt.legend(['train', 'valid'], loc='upper left')\n",
    "plt.show()"
   ]
  },
  {
   "cell_type": "code",
   "execution_count": 17,
   "metadata": {},
   "outputs": [
    {
     "data": {
      "image/png": "[encoded data removed]",
      "text/plain": [
       "<Figure size 432x288 with 1 Axes>"
      ]
     },
     "metadata": {},
     "output_type": "display_data"
    }
   ],
   "source": [
    "plt.plot(history.history['loss'])\n",
    "plt.plot(history.history['val_loss'])\n",
    "plt.title('model loss')\n",
    "plt.ylabel('loss')\n",
    "plt.xlabel('epoch')\n",
    "plt.legend(['train', 'valid'], loc='upper left')\n",
    "plt.show()"
   ]
  },
  {
   "cell_type": "code",
   "execution_count": 18,
   "metadata": {},
   "outputs": [
    {
     "name": "stdout",
     "output_type": "stream",
     "text": [
      "CONFUSION MATRIX ------------------\n",
      "[[279 107  95  11   6  11]\n",
      " [ 96 462 107  24   2  12]\n",
      " [ 61  59 471  17   2   0]\n",
      " [  1  10   4 290   0  82]\n",
      " [103  52   8  34  45  52]\n",
      " [ 29  17   1  75  16 356]]\n",
      "\n",
      "============TEST METRICS=============\n",
      "Accuracy: 63.49683016349683%\n",
      "Precision: 67.5581257220285%\n",
      "Recall: 63.49683016349683%\n",
      "F1-score: 65.4645496791869\n",
      "\n",
      "TRAIN METRIC ----------------------\n",
      "Train acc: 50.84\n"
     ]
    }
   ],
   "source": [
    "from sklearn.metrics import accuracy_score, confusion_matrix,f1_score, precision_score, recall_score\n",
    "\n",
    "Y_preds = model.predict(x_test)\n",
    "\n",
    "Y_preds = np.argmax(Y_preds, axis=1)\n",
    "Y_true = np.argmax(y_test, axis=1)\n",
    "\n",
    "acc = accuracy_score(np.round(Y_preds),Y_true)*100\n",
    "cm = confusion_matrix(Y_true, np.round(Y_preds))\n",
    "precision=precision_score(np.round(Y_preds),Y_true,average='weighted')*100\n",
    "recall=recall_score(np.round(Y_preds),Y_true,average='weighted')*100\n",
    "#tn, fp, fn, tp = cm.ravel()\n",
    "\n",
    "print('CONFUSION MATRIX ------------------')\n",
    "print(cm)\n",
    "\n",
    "print('\\n============TEST METRICS=============')\n",
    "#precision = tp/(tp+fp)*100\n",
    "#recall = tp/(tp+fn)*100\n",
    "print('Accuracy: {}%'.format(acc))\n",
    "print('Precision: {}%'.format(precision))\n",
    "print('Recall: {}%'.format(recall))\n",
    "print('F1-score: {}'.format(2*precision*recall/(precision+recall)))\n",
    "\n",
    "print('\\nTRAIN METRIC ----------------------')\n",
    "print('Train acc: {}'.format(np.round((history.history['acc'][-1])*100, 2)))"
   ]
  },
  {
   "cell_type": "code",
   "execution_count": 19,
   "metadata": {
    "scrolled": true
   },
   "outputs": [
    {
     "name": "stdout",
     "output_type": "stream",
     "text": [
      "                                     precision    recall  f1-score   support\n",
      "\n",
      "                        Commom rust       0.49      0.55      0.52       509\n",
      "                   Bipolaris maydis       0.65      0.66      0.66       703\n",
      "Curvularia lunata(wakker) boed spot       0.69      0.77      0.73       610\n",
      "               Northern leaf blight       0.64      0.75      0.69       387\n",
      "                           Own spot       0.63      0.15      0.25       294\n",
      "                      Sheath blight       0.69      0.72      0.71       494\n",
      "\n",
      "                        avg / total       0.64      0.63      0.62      2997\n",
      "\n"
     ]
    }
   ],
   "source": [
    "import numpy as np\n",
    "from sklearn.metrics import classification_report,confusion_matrix\n",
    "import itertools\n",
    "\n",
    "Y_pred = model.predict(x_test)\n",
    "y_pred = np.argmax(Y_pred, axis=1)\n",
    "target_names = [ 'Commom rust','Bipolaris maydis','Curvularia lunata(wakker) boed spot','Northern leaf blight','Own spot','Sheath blight']\n",
    "print(classification_report(np.argmax(y_test,axis=1), y_pred,target_names=target_names))"
   ]
  },
  {
   "cell_type": "code",
   "execution_count": 20,
   "metadata": {},
   "outputs": [
    {
     "name": "stdout",
     "output_type": "stream",
     "text": [
      "[INFO] Calculating model accuracy\n",
      "2997/2997 [==============================] - 5s 2ms/step\n",
      "Test Accuracy: 63.4968301754297\n"
     ]
    }
   ],
   "source": [
    "print(\"[INFO] Calculating model accuracy\")\n",
    "scores = model.evaluate(x_test, y_test)\n",
    "print(f\"Test Accuracy: {scores[1]*100}\")"
   ]
  },
  {
   "cell_type": "code",
   "execution_count": 21,
   "metadata": {},
   "outputs": [
    {
     "name": "stdout",
     "output_type": "stream",
     "text": [
      "2997/2997 [==============================] - 5s 2ms/step\n",
      "1.0639972091118892\n",
      "0.634968301754297\n"
     ]
    }
   ],
   "source": [
    "test_loss,test_acc=model.evaluate(x_test,y_test)\n",
    "print(test_loss)\n",
    "print(test_acc)"
   ]
  },
  {
   "cell_type": "code",
   "execution_count": 22,
   "metadata": {},
   "outputs": [
    {
     "name": "stdout",
     "output_type": "stream",
     "text": [
      "[0.24424424424921626, 0.31431431431431434, 0.3393393393443114, 0.3747080413846521, 0.43677010344671413, 0.40840840841338044, 0.41941941942936345, 0.41374708045352326, 0.44544544548522164, 0.4734734735132497, 0.4124124124223565, 0.4507841174706722, 0.4854854854954295, 0.4664664664764105, 0.5048381715147823, 0.490156823529933, 0.47580914251558537, 0.5378712045776474, 0.5155155155254596, 0.5385385385484825, 0.561227894571172, 0.46079412746576615, 0.5799132465898573, 0.5689022356086785, 0.5849182516246945, 0.5498832165896594, 0.532198865552087, 0.4928261595326024, 0.5128461795526223, 0.5615615616013377, 0.580246913600135, 0.5925925926124807, 0.5779112445977993, 0.5845845846044727, 0.6012679346410441, 0.5669002335867883, 0.5879212545879212, 0.6106106106304987, 0.6009342676208224, 0.601267934621156, 0.5422088755521529, 0.6056056056254937, 0.5949282616148164, 0.5949282616148164, 0.5865865866064747, 0.5535535535734416, 0.5295295295693058, 0.6276276276475158, 0.5962629295962629, 0.6176176176375057, 0.6052719386450481, 0.6166166166365047, 0.6069402736268283, 0.5965965966164847, 0.6199532866398414, 0.602268935622157, 0.6252919586650681, 0.6309642976508524, 0.6503169836702051, 0.6349683016548564]\n"
     ]
    }
   ],
   "source": [
    "print(history.history['val_acc'])"
   ]
  },
  {
   "cell_type": "code",
   "execution_count": 23,
   "metadata": {},
   "outputs": [
    {
     "name": "stdout",
     "output_type": "stream",
     "text": [
      "[11.931246640087965, 10.159417901788506, 8.323690309260423, 5.903503572519199, 6.0505026679537, 4.862677640902189, 3.5498671832385362, 4.464275792872543, 3.4981837744389845, 2.284863077444675, 2.5961694550347163, 2.109443976058139, 2.1532483750038796, 1.6960663941052105, 1.6569409214897397, 1.6582531029278331, 1.7109184219195201, 1.3585134235110965, 1.2827513612108228, 1.3479692434564525, 1.2050285204116369, 1.3539408899204788, 1.1636013776650618, 1.1927866998178625, 1.1935900372189205, 1.1520273864846011, 1.2163328991399274, 1.3006550270714758, 1.4958840407130318, 1.2183292577534786, 1.0914468407670697, 1.0814386508565845, 1.259417630093154, 1.1477140680845475, 1.1257416449827793, 1.1064144135476113, 1.1868659065570837, 1.0552228597907332, 1.0950756896166631, 1.0708632322403047, 1.2742491001322305, 1.0758824990437672, 1.204757214149396, 1.1586179122910485, 1.1137553859162737, 1.2222664588922494, 1.3120022886070681, 1.016796006494496, 1.0914119065384646, 1.019160734759914, 1.1227582386027666, 1.0911557486465386, 1.0489343846584107, 1.1034400192228284, 1.0362965150558834, 1.0958018361985147, 0.9942638006137139, 1.039172183425179, 0.9882584925607956, 1.0639970029518133]\n"
     ]
    }
   ],
   "source": [
    "print(history.history['val_loss'])"
   ]
  },
  {
   "cell_type": "code",
   "execution_count": 24,
   "metadata": {
    "scrolled": true
   },
   "outputs": [
    {
     "name": "stdout",
     "output_type": "stream",
     "text": [
      "[0.21015138023152272, 0.2648630594555558, 0.3075038966855714, 0.3368960142507237, 0.3513694054776219, 0.3525940770496108, 0.30115787129815186, 0.3117345802716544, 0.3122912491649967, 0.3169672678690715, 0.32887998219323145, 0.3317746604386111, 0.3343353373479854, 0.34335337342012967, 0.35337341350029, 0.35281674460031176, 0.36216878200846137, 0.3800935203740815, 0.3796481852627257, 0.3952349142796264, 0.3991315965330221, 0.40737029615116926, 0.4111556446258965, 0.41638833222331356, 0.4172790024626152, 0.4209530171454019, 0.4283010465408375, 0.4434424404397464, 0.43609441104762886, 0.44333110666439596, 0.44355377422173287, 0.4535738142985752, 0.45958583834335337, 0.45880650190594624, 0.464707192162102, 0.46492985972607487, 0.4640391895033633, 0.4762859051568926, 0.48207526163437986, 0.48396793587174347, 0.47472723224558033, 0.4811845914050323, 0.4819639278557114, 0.4907592963771548, 0.4956579826352485, 0.4856379425584062, 0.4887552883677588, 0.49766199064796257, 0.48920062348243254, 0.4918726341605213, 0.49910932977728845, 0.5028946782520156, 0.5062346916054331, 0.5006680026786468, 0.5087953685148074, 0.5025606769093743, 0.5090180360787803, 0.5107993765308395, 0.5094633712000901, 0.5083500334067697]\n"
     ]
    }
   ],
   "source": [
    "print(history.history['acc'])"
   ]
  },
  {
   "cell_type": "code",
   "execution_count": 25,
   "metadata": {},
   "outputs": [
    {
     "name": "stdout",
     "output_type": "stream",
     "text": [
      "[12.256316340617165, 11.209928183002425, 9.926817916066575, 8.393818029235078, 7.542918930338263, 7.0336404663500876, 7.033481871383648, 6.066450331304525, 5.328296458368125, 4.795175909066991, 4.199734792601051, 3.6673730450944255, 3.298783872340416, 2.8983677934894208, 2.644650224746402, 2.468140271718134, 2.2723695419594376, 2.09841999323324, 2.0176723592930608, 1.9091366351885086, 1.8358616566663328, 1.8009365058853057, 1.7457232569246668, 1.6715612639246897, 1.6604546893017247, 1.6285446639104506, 1.5731506008954284, 1.5450272395281133, 1.5780848624100534, 1.510179428793067, 1.4921676900757896, 1.478549999958209, 1.4528903638406099, 1.4336450925730193, 1.4208844539663144, 1.4162106539990211, 1.3897949680005806, 1.378821733520281, 1.3776916867506528, 1.361918038593, 1.3620875545079978, 1.3492520149076364, 1.3505683749535917, 1.328088027070291, 1.3181776031569739, 1.3354000018768972, 1.3157884049617323, 1.3045198333685448, 1.3118057970585522, 1.2944439595166624, 1.2818883368390834, 1.273335845930702, 1.2852209834313504, 1.2882701462983714, 1.273781109137568, 1.270790763035088, 1.259818066575962, 1.2548229566424176, 1.2662612816932286, 1.2584499997727405]\n"
     ]
    }
   ],
   "source": [
    "print(history.history['loss'])"
   ]
  },
  {
   "cell_type": "code",
   "execution_count": 26,
   "metadata": {},
   "outputs": [
    {
     "name": "stdout",
     "output_type": "stream",
     "text": [
      "2997/2997 [==============================] - 5s 2ms/step\n"
     ]
    },
    {
     "data": {
      "text/plain": [
       "array([2, 5, 0, ..., 2, 0, 1], dtype=int64)"
      ]
     },
     "execution_count": 26,
     "metadata": {},
     "output_type": "execute_result"
    }
   ],
   "source": [
    "pred = model.predict(x_test,verbose=1)\n",
    "y_pred = np.argmax(pred, axis = 1)\n",
    "y_pred"
   ]
  },
  {
   "cell_type": "code",
   "execution_count": 27,
   "metadata": {},
   "outputs": [],
   "source": [
    "def plot_confusion_matrix(cm, classes,\n",
    "                          normalize=False,\n",
    "                          title='Confusion matrix',\n",
    "                          cmap=plt.cm.Blues):\n",
    "    \"\"\"\n",
    "    This function prints and plots the confusion matrix.\n",
    "    Normalization can be applied by setting `normalize=True`.\n",
    "    \"\"\"\n",
    "    plt.imshow(cm, interpolation='nearest', cmap=cmap)\n",
    "    plt.title(title)\n",
    "    plt.colorbar()\n",
    "    tick_marks = np.arange(len(classes))\n",
    "    plt.xticks(tick_marks, classes, rotation=45)\n",
    "    plt.yticks(tick_marks, classes)\n",
    "\n",
    "    if normalize:\n",
    "        cm = cm.astype('float') / cm.sum(axis=1)[:, np.newaxis]\n",
    "        print(\"Normalized confusion matrix\")\n",
    "    else:\n",
    "        print('Confusion matrix, without normalization')\n",
    "\n",
    "    print(cm)\n",
    "\n",
    "    thresh = cm.max() / 2.\n",
    "    for i, j in itertools.product(range(cm.shape[0]), range(cm.shape[1])):\n",
    "        plt.text(j, i, cm[i, j],\n",
    "                 horizontalalignment=\"center\",\n",
    "                 color=\"white\" if cm[i, j] > thresh else \"black\")\n",
    "        \n",
    "\n",
    "    plt.tight_layout()\n",
    "    plt.ylabel('True label')\n",
    "    plt.xlabel('Predicted label')"
   ]
  },
  {
   "cell_type": "code",
   "execution_count": 28,
   "metadata": {},
   "outputs": [
    {
     "name": "stdout",
     "output_type": "stream",
     "text": [
      "Confusion matrix, without normalization\n",
      "[[279 107  95  11   6  11]\n",
      " [ 96 462 107  24   2  12]\n",
      " [ 61  59 471  17   2   0]\n",
      " [  1  10   4 290   0  82]\n",
      " [103  52   8  34  45  52]\n",
      " [ 29  17   1  75  16 356]]\n"
     ]
    },
    {
     "data": {
      "image/png": "[encoded data removed]",
      "text/plain": [
       "<Figure size 504x504 with 2 Axes>"
      ]
     },
     "metadata": {},
     "output_type": "display_data"
    }
   ],
   "source": [
    "cnf_matrix = (confusion_matrix(np.argmax(y_test,axis=1), y_pred))\n",
    "np.set_printoptions(precision=2)\n",
    "plt.figure(figsize=(7,7))\n",
    "plot_confusion_matrix(cnf_matrix, classes=target_names,\n",
    "                      title='Confusion matrix')"
   ]
  },
  {
   "cell_type": "code",
   "execution_count": null,
   "metadata": {},
   "outputs": [],
   "source": []
  }
 ],
 "metadata": {
  "kernelspec": {
   "display_name": "Python 3 (ipykernel)",
   "language": "python",
   "name": "python3"
  },
  "language_info": {
   "codemirror_mode": {
    "name": "ipython",
    "version": 3
   },
   "file_extension": ".py",
   "mimetype": "text/x-python",
   "name": "python",
   "nbconvert_exporter": "python",
   "pygments_lexer": "ipython3",
   "version": "3.9.13"
  }
 },
 "nbformat": 4,
 "nbformat_minor": 2
}
