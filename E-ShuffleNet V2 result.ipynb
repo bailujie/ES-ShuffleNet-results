{
 "cells": [
  {
   "cell_type": "code",
   "execution_count": 15,
   "metadata": {
    "scrolled": true
   },
   "outputs": [
    {
     "name": "stdout",
     "output_type": "stream",
     "text": [
      "WARNING:tensorflow:From D:\\anaconda\\lib\\site-packages\\tensorflow\\python\\ops\\math_grad.py:1250: add_dispatch_support.<locals>.wrapper (from tensorflow.python.ops.array_ops) is deprecated and will be removed in a future version.\n",
      "Instructions for updating:\n",
      "Use tf.where in 2.0, which has the same broadcast rule as np.where\n",
      "Epoch 1/60\n",
      "1123/1123 [==============================] - 172s 153ms/step - loss: 1.1536 - acc: 0.5611 - val_loss: 1.0475 - val_acc: 0.5989\n",
      "Epoch 2/60\n",
      "1123/1123 [==============================] - 92s 82ms/step - loss: 0.6691 - acc: 0.7586 - val_loss: 0.4974 - val_acc: 0.8238\n",
      "Epoch 3/60\n",
      "1123/1123 [==============================] - 93s 83ms/step - loss: 0.4730 - acc: 0.8285 - val_loss: 0.6117 - val_acc: 0.7774\n",
      "Epoch 4/60\n",
      "1123/1123 [==============================] - 92s 82ms/step - loss: 0.3715 - acc: 0.8704 - val_loss: 0.2826 - val_acc: 0.8939\n",
      "Epoch 5/60\n",
      "1123/1123 [==============================] - 91s 81ms/step - loss: 0.2879 - acc: 0.9008 - val_loss: 0.1957 - val_acc: 0.9369\n",
      "Epoch 6/60\n",
      "1123/1123 [==============================] - 93s 83ms/step - loss: 0.2457 - acc: 0.9160 - val_loss: 0.5534 - val_acc: 0.7978\n",
      "Epoch 7/60\n",
      "1123/1123 [==============================] - 91s 81ms/step - loss: 0.2070 - acc: 0.9285 - val_loss: 0.1915 - val_acc: 0.9359\n",
      "Epoch 8/60\n",
      "1123/1123 [==============================] - 91s 81ms/step - loss: 0.1918 - acc: 0.9358 - val_loss: 0.1477 - val_acc: 0.9523\n",
      "Epoch 9/60\n",
      "1123/1123 [==============================] - 93s 83ms/step - loss: 0.1651 - acc: 0.9469 - val_loss: 0.1032 - val_acc: 0.9656\n",
      "Epoch 10/60\n",
      "1123/1123 [==============================] - 91s 81ms/step - loss: 0.1487 - acc: 0.9500 - val_loss: 0.1276 - val_acc: 0.9563\n",
      "Epoch 11/60\n",
      "1123/1123 [==============================] - 91s 81ms/step - loss: 0.1287 - acc: 0.9567 - val_loss: 0.1173 - val_acc: 0.9620\n",
      "Epoch 12/60\n",
      "1123/1123 [==============================] - 93s 83ms/step - loss: 0.1238 - acc: 0.9580 - val_loss: 0.0762 - val_acc: 0.9776\n",
      "Epoch 13/60\n",
      "1123/1123 [==============================] - 91s 81ms/step - loss: 0.1092 - acc: 0.9666 - val_loss: 0.0883 - val_acc: 0.9720\n",
      "Epoch 14/60\n",
      "1123/1123 [==============================] - 91s 81ms/step - loss: 0.0983 - acc: 0.9683 - val_loss: 0.0791 - val_acc: 0.9750\n",
      "Epoch 15/60\n",
      "1123/1123 [==============================] - 108s 96ms/step - loss: 0.0975 - acc: 0.9687 - val_loss: 0.0942 - val_acc: 0.9696\n",
      "Epoch 16/60\n",
      "1123/1123 [==============================] - 116s 103ms/step - loss: 0.0970 - acc: 0.9687 - val_loss: 0.0778 - val_acc: 0.9733\n",
      "Epoch 17/60\n",
      "1123/1123 [==============================] - 95s 85ms/step - loss: 0.0909 - acc: 0.9699 - val_loss: 0.0608 - val_acc: 0.9816\n",
      "Epoch 18/60\n",
      "1123/1123 [==============================] - 97s 86ms/step - loss: 0.0790 - acc: 0.9750 - val_loss: 0.0418 - val_acc: 0.9870\n",
      "Epoch 19/60\n",
      "1123/1123 [==============================] - 97s 86ms/step - loss: 0.0755 - acc: 0.9746 - val_loss: 0.1767 - val_acc: 0.9316\n",
      "Epoch 20/60\n",
      "1123/1123 [==============================] - 95s 85ms/step - loss: 0.0735 - acc: 0.9758 - val_loss: 0.0484 - val_acc: 0.9860\n",
      "Epoch 21/60\n",
      "1123/1123 [==============================] - 97s 86ms/step - loss: 0.0678 - acc: 0.9767 - val_loss: 0.0439 - val_acc: 0.9873\n",
      "Epoch 22/60\n",
      "1123/1123 [==============================] - 97s 86ms/step - loss: 0.0647 - acc: 0.9789 - val_loss: 0.0481 - val_acc: 0.9850\n",
      "Epoch 23/60\n",
      "1123/1123 [==============================] - 97s 86ms/step - loss: 0.0623 - acc: 0.9814 - val_loss: 0.0446 - val_acc: 0.9857\n",
      "Epoch 24/60\n",
      "1123/1123 [==============================] - 97s 87ms/step - loss: 0.0592 - acc: 0.9817 - val_loss: 0.0339 - val_acc: 0.9907\n",
      "Epoch 25/60\n",
      "1123/1123 [==============================] - 96s 85ms/step - loss: 0.0579 - acc: 0.9823 - val_loss: 0.0486 - val_acc: 0.9843\n",
      "Epoch 26/60\n",
      "1123/1123 [==============================] - 96s 86ms/step - loss: 0.0551 - acc: 0.9832 - val_loss: 0.0917 - val_acc: 0.9663\n",
      "Epoch 27/60\n",
      "1123/1123 [==============================] - 97s 87ms/step - loss: 0.0543 - acc: 0.9830 - val_loss: 0.0424 - val_acc: 0.9853\n",
      "Epoch 28/60\n",
      "1123/1123 [==============================] - 96s 85ms/step - loss: 0.0514 - acc: 0.9856 - val_loss: 0.0383 - val_acc: 0.9883\n",
      "Epoch 29/60\n",
      "1123/1123 [==============================] - 96s 86ms/step - loss: 0.0532 - acc: 0.9826 - val_loss: 0.0584 - val_acc: 0.9793\n",
      "Epoch 30/60\n",
      "1123/1123 [==============================] - 98s 87ms/step - loss: 0.0473 - acc: 0.9851 - val_loss: 0.0302 - val_acc: 0.9890\n",
      "Epoch 31/60\n",
      "1123/1123 [==============================] - 96s 85ms/step - loss: 0.0444 - acc: 0.9869 - val_loss: 0.0296 - val_acc: 0.9910\n",
      "Epoch 32/60\n",
      "1123/1123 [==============================] - 95s 85ms/step - loss: 0.0454 - acc: 0.9879 - val_loss: 0.0382 - val_acc: 0.9890\n",
      "Epoch 33/60\n",
      "1123/1123 [==============================] - 99s 88ms/step - loss: 0.0475 - acc: 0.9845 - val_loss: 0.0308 - val_acc: 0.9910\n",
      "Epoch 34/60\n",
      "1123/1123 [==============================] - 96s 85ms/step - loss: 0.0420 - acc: 0.9873 - val_loss: 0.0364 - val_acc: 0.9873\n",
      "Epoch 35/60\n",
      "1123/1123 [==============================] - 95s 85ms/step - loss: 0.0395 - acc: 0.9890 - val_loss: 0.0232 - val_acc: 0.9920\n",
      "Epoch 36/60\n",
      "1123/1123 [==============================] - 98s 87ms/step - loss: 0.0429 - acc: 0.9858 - val_loss: 0.0301 - val_acc: 0.9897\n",
      "Epoch 37/60\n",
      "1123/1123 [==============================] - 95s 85ms/step - loss: 0.0392 - acc: 0.9876 - val_loss: 0.0263 - val_acc: 0.9920\n",
      "Epoch 38/60\n",
      "1123/1123 [==============================] - 95s 85ms/step - loss: 0.0372 - acc: 0.9898 - val_loss: 0.0228 - val_acc: 0.9920\n",
      "Epoch 39/60\n",
      "1123/1123 [==============================] - 99s 88ms/step - loss: 0.0385 - acc: 0.9892 - val_loss: 0.0338 - val_acc: 0.9890\n",
      "Epoch 40/60\n",
      "1123/1123 [==============================] - 97s 86ms/step - loss: 0.0385 - acc: 0.9895 - val_loss: 0.0315 - val_acc: 0.9903\n",
      "Epoch 41/60\n",
      "1123/1123 [==============================] - 95s 85ms/step - loss: 0.0370 - acc: 0.9900 - val_loss: 0.0240 - val_acc: 0.9933\n",
      "Epoch 42/60\n",
      "1123/1123 [==============================] - 97s 86ms/step - loss: 0.0339 - acc: 0.9911 - val_loss: 0.0192 - val_acc: 0.9947\n",
      "Epoch 43/60\n",
      "1123/1123 [==============================] - 97s 86ms/step - loss: 0.0353 - acc: 0.9895 - val_loss: 0.0209 - val_acc: 0.9923\n",
      "Epoch 44/60\n",
      "1123/1123 [==============================] - 95s 85ms/step - loss: 0.0366 - acc: 0.9895 - val_loss: 0.0219 - val_acc: 0.9940\n",
      "Epoch 45/60\n",
      "1123/1123 [==============================] - 97s 86ms/step - loss: 0.0323 - acc: 0.9910 - val_loss: 0.0206 - val_acc: 0.9943\n",
      "Epoch 46/60\n",
      "1123/1123 [==============================] - 97s 87ms/step - loss: 0.0307 - acc: 0.9917 - val_loss: 0.0168 - val_acc: 0.9963\n",
      "Epoch 47/60\n",
      "1123/1123 [==============================] - 95s 85ms/step - loss: 0.0315 - acc: 0.9918 - val_loss: 0.0209 - val_acc: 0.9920\n",
      "Epoch 48/60\n",
      "1123/1123 [==============================] - 97s 86ms/step - loss: 0.0396 - acc: 0.9869 - val_loss: 0.0237 - val_acc: 0.9933\n",
      "Epoch 49/60\n",
      "1123/1123 [==============================] - 96s 86ms/step - loss: 0.0316 - acc: 0.9920 - val_loss: 0.0196 - val_acc: 0.9957\n",
      "Epoch 50/60\n",
      "1123/1123 [==============================] - 96s 86ms/step - loss: 0.0278 - acc: 0.9928 - val_loss: 0.0233 - val_acc: 0.9933\n",
      "Epoch 51/60\n",
      "1123/1123 [==============================] - 97s 87ms/step - loss: 0.0338 - acc: 0.9901 - val_loss: 0.0234 - val_acc: 0.9943\n",
      "Epoch 52/60\n",
      "1123/1123 [==============================] - 96s 85ms/step - loss: 0.0298 - acc: 0.9919 - val_loss: 0.0181 - val_acc: 0.9943\n",
      "Epoch 53/60\n",
      "1123/1123 [==============================] - 97s 86ms/step - loss: 0.0279 - acc: 0.9927 - val_loss: 0.0174 - val_acc: 0.9950\n",
      "Epoch 54/60\n",
      "1123/1123 [==============================] - 97s 87ms/step - loss: 0.0321 - acc: 0.9908 - val_loss: 0.0221 - val_acc: 0.9937\n",
      "Epoch 55/60\n",
      "1123/1123 [==============================] - 96s 85ms/step - loss: 0.0282 - acc: 0.9915 - val_loss: 0.0230 - val_acc: 0.9933\n",
      "Epoch 56/60\n",
      "1123/1123 [==============================] - 97s 86ms/step - loss: 0.0307 - acc: 0.9908 - val_loss: 0.0181 - val_acc: 0.9950\n",
      "Epoch 57/60\n",
      "1123/1123 [==============================] - 98s 87ms/step - loss: 0.0249 - acc: 0.9934 - val_loss: 0.0161 - val_acc: 0.9960\n",
      "Epoch 58/60\n",
      "1123/1123 [==============================] - 95s 85ms/step - loss: 0.0283 - acc: 0.9931 - val_loss: 0.0154 - val_acc: 0.9957\n",
      "Epoch 59/60\n",
      "1123/1123 [==============================] - 95s 85ms/step - loss: 0.0252 - acc: 0.9931 - val_loss: 0.0222 - val_acc: 0.9947\n",
      "Epoch 60/60\n",
      "1123/1123 [==============================] - 98s 87ms/step - loss: 0.0272 - acc: 0.9929 - val_loss: 0.0166 - val_acc: 0.9953\n"
     ]
    }
   ],
   "source": [
    "history = model.fit_generator(\n",
    "    aug.flow(x_train, y_train, batch_size=BS),\n",
    "    validation_data=(x_test, y_test),\n",
    "    steps_per_epoch=len(x_train) // BS,\n",
    "    epochs=60, verbose=1\n",
    "    \n",
    "    )"
   ]
  },
  {
   "cell_type": "code",
   "execution_count": 16,
   "metadata": {},
   "outputs": [],
   "source": [
    "import os\n",
    "import pandas as pd\n",
    "import numpy as np\n",
    "import matplotlib.pyplot as plt\n",
    "import csv"
   ]
  },
  {
   "cell_type": "code",
   "execution_count": 17,
   "metadata": {},
   "outputs": [
    {
     "data": {
      "image/png": "[encoded data removed]",
      "text/plain": [
       "<Figure size 432x288 with 1 Axes>"
      ]
     },
     "metadata": {},
     "output_type": "display_data"
    }
   ],
   "source": [
    "plt.plot(history.history['acc'])\n",
    "plt.plot(history.history['val_acc'])\n",
    "plt.title('model accuracy')\n",
    "plt.ylabel('accuracy')\n",
    "plt.xlabel('epochs')\n",
    "plt.legend(['train', 'valid'], loc='upper left')\n",
    "plt.show()"
   ]
  },
  {
   "cell_type": "code",
   "execution_count": 18,
   "metadata": {},
   "outputs": [
    {
     "data": {
      "image/png": "[encoded data removed]",
      "text/plain": [
       "<Figure size 432x288 with 1 Axes>"
      ]
     },
     "metadata": {},
     "output_type": "display_data"
    }
   ],
   "source": [
    "plt.plot(history.history['loss'])\n",
    "plt.plot(history.history['val_loss'])\n",
    "plt.title('model loss')\n",
    "plt.ylabel('loss')\n",
    "plt.xlabel('epoch')\n",
    "plt.legend(['train', 'valid'], loc='upper left')\n",
    "plt.show()"
   ]
  },
  {
   "cell_type": "code",
   "execution_count": 19,
   "metadata": {},
   "outputs": [
    {
     "name": "stdout",
     "output_type": "stream",
     "text": [
      "CONFUSION MATRIX ------------------\n",
      "[[507   0   1   0   1   0]\n",
      " [  0 700   2   0   1   0]\n",
      " [  0   0 609   1   0   0]\n",
      " [  0   0   0 387   0   0]\n",
      " [  0   3   0   2 289   0]\n",
      " [  3   0   0   0   0 491]]\n",
      "\n",
      "============TEST METRICS=============\n",
      "Accuracy: 99.53286619953286%\n",
      "Precision: 99.53493597163953%\n",
      "Recall: 99.53286619953286%\n",
      "F1-score: 99.53390107482615\n",
      "\n",
      "TRAIN METRIC ----------------------\n",
      "Train acc: 99.29\n"
     ]
    }
   ],
   "source": [
    "from sklearn.metrics import accuracy_score, confusion_matrix,f1_score, precision_score, recall_score\n",
    "\n",
    "Y_preds = model.predict(x_test)\n",
    "\n",
    "Y_preds = np.argmax(Y_preds, axis=1)\n",
    "Y_true = np.argmax(y_test, axis=1)\n",
    "\n",
    "acc = accuracy_score(np.round(Y_preds),Y_true)*100\n",
    "cm = confusion_matrix(Y_true, np.round(Y_preds))\n",
    "precision=precision_score(np.round(Y_preds),Y_true,average='weighted')*100\n",
    "recall=recall_score(np.round(Y_preds),Y_true,average='weighted')*100\n",
    "#tn, fp, fn, tp = cm.ravel()\n",
    "\n",
    "print('CONFUSION MATRIX ------------------')\n",
    "print(cm)\n",
    "\n",
    "print('\\n============TEST METRICS=============')\n",
    "#precision = tp/(tp+fp)*100\n",
    "#recall = tp/(tp+fn)*100\n",
    "print('Accuracy: {}%'.format(acc))\n",
    "print('Precision: {}%'.format(precision))\n",
    "print('Recall: {}%'.format(recall))\n",
    "print('F1-score: {}'.format(2*precision*recall/(precision+recall)))\n",
    "\n",
    "print('\\nTRAIN METRIC ----------------------')\n",
    "print('Train acc: {}'.format(np.round((history.history['acc'][-1])*100, 2)))"
   ]
  },
  {
   "cell_type": "code",
   "execution_count": 20,
   "metadata": {
    "scrolled": true
   },
   "outputs": [
    {
     "name": "stdout",
     "output_type": "stream",
     "text": [
      "                                     precision    recall  f1-score   support\n",
      "\n",
      "                        Commom rust       0.99      1.00      1.00       509\n",
      "                   Bipolaris maydis       1.00      1.00      1.00       703\n",
      "Curvularia lunata(wakker) boed spot       1.00      1.00      1.00       610\n",
      "               Northern leaf blight       0.99      1.00      1.00       387\n",
      "                           Own spot       0.99      0.98      0.99       294\n",
      "                      Sheath blight       1.00      0.99      1.00       494\n",
      "\n",
      "                           accuracy                           1.00      2997\n",
      "                          macro avg       1.00      0.99      0.99      2997\n",
      "                       weighted avg       1.00      1.00      1.00      2997\n",
      "\n"
     ]
    }
   ],
   "source": [
    "import numpy as np\n",
    "from sklearn.metrics import classification_report,confusion_matrix\n",
    "import itertools\n",
    "\n",
    "Y_pred = model.predict(x_test)\n",
    "y_pred = np.argmax(Y_pred, axis=1)\n",
    "target_names = [ 'Commom rust','Bipolaris maydis','Curvularia lunata(wakker) boed spot','Northern leaf blight','Own spot','Sheath blight']\n",
    "print(classification_report(np.argmax(y_test,axis=1), y_pred,target_names=target_names))"
   ]
  },
  {
   "cell_type": "code",
   "execution_count": 21,
   "metadata": {},
   "outputs": [
    {
     "name": "stdout",
     "output_type": "stream",
     "text": [
      "[INFO] Calculating model accuracy\n",
      "2997/2997 [==============================] - 5s 2ms/step\n",
      "Test Accuracy: 99.53286619953286\n"
     ]
    }
   ],
   "source": [
    "print(\"[INFO] Calculating model accuracy\")\n",
    "scores = model.evaluate(x_test, y_test)\n",
    "print(f\"Test Accuracy: {scores[1]*100}\")"
   ]
  },
  {
   "cell_type": "code",
   "execution_count": 22,
   "metadata": {},
   "outputs": [
    {
     "name": "stdout",
     "output_type": "stream",
     "text": [
      "2997/2997 [==============================] - 5s 2ms/step\n",
      "0.016566067855027657\n",
      "0.9953286619953287\n"
     ]
    }
   ],
   "source": [
    "test_loss,test_acc=model.evaluate(x_test,y_test)\n",
    "print(test_loss)\n",
    "print(test_acc)"
   ]
  },
  {
   "cell_type": "code",
   "execution_count": 23,
   "metadata": {},
   "outputs": [
    {
     "name": "stdout",
     "output_type": "stream",
     "text": [
      "[0.5989322656088764, 0.8238238238437119, 0.7774441107973322, 0.8938938938938938, 0.936936936956825, 0.7977977978176859, 0.9359359359359359, 0.9522856189522856, 0.9656322989656323, 0.9562896229562896, 0.9619619619619619, 0.9776443109776443, 0.9719719719719719, 0.974974974974975, 0.9696363029696363, 0.9733066399733067, 0.9816483149816483, 0.986986986986987, 0.9315982649315983, 0.985985985985986, 0.9873206539873206, 0.984984984984985, 0.9856523189856523, 0.9906573239906573, 0.9843176509843177, 0.9662996329662996, 0.9853186519853186, 0.9883216549883217, 0.9793126459793127, 0.988988988988989, 0.990990990990991, 0.988988988988989, 0.990990990990991, 0.9873206539873206, 0.991991991991992, 0.9896563229896563, 0.991991991991992, 0.991991991991992, 0.988988988988989, 0.9903236569903237, 0.9933266599933267, 0.9946613279946613, 0.9923256589923256, 0.993993993993994, 0.9943276609943277, 0.9963296629963296, 0.991991991991992, 0.9933266599933267, 0.9956623289956623, 0.9933266599933267, 0.9943276609943277, 0.9943276609943277, 0.994994994994995, 0.9936603269936604, 0.9933266599933267, 0.994994994994995, 0.995995995995996, 0.9956623289956623, 0.9946613279946613, 0.9953286619953287]\n"
     ]
    }
   ],
   "source": [
    "print(history.history['val_acc'])"
   ]
  },
  {
   "cell_type": "code",
   "execution_count": 24,
   "metadata": {},
   "outputs": [
    {
     "name": "stdout",
     "output_type": "stream",
     "text": [
      "[1.0475360962164812, 0.49741309086680613, 0.6117116044392616, 0.2825722424913177, 0.19569971750269424, 0.5534284771847345, 0.19145498921971024, 0.14772164367865256, 0.10322475549570712, 0.12763054374637114, 0.11734729328089911, 0.07624181066151842, 0.08829642687717557, 0.07907517067637465, 0.09421471430502724, 0.07782961927902579, 0.06079715324796035, 0.04180499856196491, 0.1766787241851618, 0.048375687153446235, 0.04387066195730248, 0.048149664655174285, 0.04462716603869518, 0.033931605616178265, 0.04863719940392585, 0.09174961330228733, 0.04240467050912484, 0.03829636332388583, 0.058375133654400384, 0.0302168706972212, 0.029551085563389597, 0.03816156864233722, 0.030791163920682763, 0.036388924835040956, 0.023218177903335486, 0.030057279228106637, 0.026276954111642183, 0.02280156901805721, 0.03384281883137538, 0.031455824463930825, 0.023987068674415343, 0.01923674378032867, 0.02092653811845321, 0.021881659735759215, 0.020562245600148542, 0.016799847036124516, 0.02090793825977997, 0.023678036700905875, 0.01961518929632712, 0.02334467574401837, 0.023412870505199027, 0.018061106143579336, 0.017401195845631094, 0.02210101580385101, 0.022966569193751625, 0.01808640754816215, 0.016113906340745, 0.015420263680998046, 0.02222861740755342, 0.016566067784817215]\n"
     ]
    }
   ],
   "source": [
    "print(history.history['val_loss'])"
   ]
  },
  {
   "cell_type": "code",
   "execution_count": 25,
   "metadata": {
    "scrolled": true
   },
   "outputs": [
    {
     "name": "stdout",
     "output_type": "stream",
     "text": [
      "[0.561122244495614, 0.7586283678335327, 0.8285459808638621, 0.8704074816166545, 0.9008016032064128, 0.9159429971053218, 0.9285237140948563, 0.935871743473702, 0.9468937875751503, 0.9500111333645949, 0.9566911600847017, 0.9580271654287231, 0.9665998663994656, 0.9682698730794923, 0.9687152081941661, 0.9687152081808941, 0.969939879759519, 0.9749498997995992, 0.9746158984635939, 0.9758405700156748, 0.9767312402582944, 0.9788465820529949, 0.9814072589623691, 0.9817412602983745, 0.9822979291917168, 0.9831885994210644, 0.9829659318637275, 0.9856379425517702, 0.9826319305144501, 0.985081273658428, 0.9868626141171232, 0.9878646181251391, 0.9845246047650857, 0.9873107747105966, 0.9889755011135858, 0.9857492763304386, 0.9876419505678022, 0.9897572923625028, 0.9892006234691605, 0.9895346248051659, 0.9899799599198397, 0.9910932977065242, 0.9895346248051659, 0.9895346248051659, 0.9909819639278558, 0.9916499665998664, 0.9917613003785348, 0.9868626141171232, 0.9919839679358717, 0.9928746381519473, 0.9900912936852361, 0.9918726341572033, 0.9926519706078825, 0.9907592963705188, 0.9915386328211979, 0.9907592963705188, 0.9934313070585615, 0.9930973057225563, 0.9930973057225563, 0.9928762243989314]\n"
     ]
    }
   ],
   "source": [
    "print(history.history['acc'])"
   ]
  },
  {
   "cell_type": "code",
   "execution_count": 26,
   "metadata": {},
   "outputs": [
    {
     "name": "stdout",
     "output_type": "stream",
     "text": [
      "[1.1536117838050708, 0.669176716285303, 0.4729286228092788, 0.3715133597314079, 0.2879418636487842, 0.24569031133487956, 0.20698833455539206, 0.19176035015975493, 0.16512719459273462, 0.14869224710277573, 0.12865142839328467, 0.12364881712382572, 0.10923392882737976, 0.09829530980692755, 0.09749960026090358, 0.09699521573223928, 0.09092347595411011, 0.07901381541852698, 0.07555772944977099, 0.07341002866060066, 0.06781786542539897, 0.06465861832173891, 0.0622802582581137, 0.05921593522055743, 0.05788513657007971, 0.05514864661237065, 0.05433621149182181, 0.05140222238256044, 0.05316178352708166, 0.04727266485131659, 0.044430376983938674, 0.04537978797192009, 0.04747038974268278, 0.04204777901612945, 0.039484912922340375, 0.04292951812370676, 0.039183180196494014, 0.03721033855602875, 0.03851482187383469, 0.03845719907846923, 0.036959905329373884, 0.03392062448036171, 0.03532749987946905, 0.03660353182875051, 0.0323156447200646, 0.03067646195676782, 0.03150922076207534, 0.03963592063620916, 0.0315878559169373, 0.02773154843587717, 0.03374762827980715, 0.029789445058760352, 0.02787792284347431, 0.032104912297258544, 0.028232081912100634, 0.030658779013528672, 0.024944655241438123, 0.028323101323234606, 0.025229804331904228, 0.02721191925066233]\n"
     ]
    }
   ],
   "source": [
    "print(history.history['loss'])"
   ]
  },
  {
   "cell_type": "code",
   "execution_count": 27,
   "metadata": {},
   "outputs": [
    {
     "name": "stdout",
     "output_type": "stream",
     "text": [
      "2997/2997 [==============================] - 5s 2ms/step\n"
     ]
    },
    {
     "data": {
      "text/plain": [
       "array([0, 5, 1, ..., 0, 0, 1], dtype=int64)"
      ]
     },
     "execution_count": 27,
     "metadata": {},
     "output_type": "execute_result"
    }
   ],
   "source": [
    "pred = model.predict(x_test,verbose=1)\n",
    "y_pred = np.argmax(pred, axis = 1)\n",
    "y_pred"
   ]
  },
  {
   "cell_type": "code",
   "execution_count": 28,
   "metadata": {},
   "outputs": [],
   "source": [
    "def plot_confusion_matrix(cm, classes,\n",
    "                          normalize=False,\n",
    "                          title='Confusion matrix',\n",
    "                          cmap=plt.cm.Blues):\n",
    "    \"\"\"\n",
    "    This function prints and plots the confusion matrix.\n",
    "    Normalization can be applied by setting `normalize=True`.\n",
    "    \"\"\"\n",
    "    plt.imshow(cm, interpolation='nearest', cmap=cmap)\n",
    "    plt.title(title)\n",
    "    plt.colorbar()\n",
    "    tick_marks = np.arange(len(classes))\n",
    "    plt.xticks(tick_marks, classes, rotation=45)\n",
    "    plt.yticks(tick_marks, classes)\n",
    "\n",
    "    if normalize:\n",
    "        cm = cm.astype('float') / cm.sum(axis=1)[:, np.newaxis]\n",
    "        print(\"Normalized confusion matrix\")\n",
    "    else:\n",
    "        print('Confusion matrix, without normalization')\n",
    "\n",
    "    print(cm)\n",
    "\n",
    "    thresh = cm.max() / 2.\n",
    "    for i, j in itertools.product(range(cm.shape[0]), range(cm.shape[1])):\n",
    "        plt.text(j, i, cm[i, j],\n",
    "                 horizontalalignment=\"center\",\n",
    "                 color=\"white\" if cm[i, j] > thresh else \"black\")\n",
    "        \n",
    "\n",
    "    plt.tight_layout()\n",
    "    plt.ylabel('True label')\n",
    "    plt.xlabel('Predicted label')"
   ]
  },
  {
   "cell_type": "code",
   "execution_count": 29,
   "metadata": {},
   "outputs": [
    {
     "name": "stdout",
     "output_type": "stream",
     "text": [
      "Confusion matrix, without normalization\n",
      "[[507   0   1   0   1   0]\n",
      " [  0 700   2   0   1   0]\n",
      " [  0   0 609   1   0   0]\n",
      " [  0   0   0 387   0   0]\n",
      " [  0   3   0   2 289   0]\n",
      " [  3   0   0   0   0 491]]\n"
     ]
    },
    {
     "data": {
      "image/png": "[encoded data removed]",
      "text/plain": [
       "<Figure size 504x504 with 2 Axes>"
      ]
     },
     "metadata": {},
     "output_type": "display_data"
    }
   ],
   "source": [
    "cnf_matrix = (confusion_matrix(np.argmax(y_test,axis=1), y_pred))\n",
    "np.set_printoptions(precision=2)\n",
    "plt.figure(figsize=(7,7))\n",
    "plot_confusion_matrix(cnf_matrix, classes=target_names,\n",
    "                      title='Confusion matrix')"
   ]
  },
  {
   "cell_type": "code",
   "execution_count": 30,
   "metadata": {},
   "outputs": [
    {
     "name": "stdout",
     "output_type": "stream",
     "text": [
      "WARNING:tensorflow:From D:\\anaconda\\lib\\site-packages\\tensorflow\\python\\profiler\\internal\\flops_registry.py:142: tensor_shape_from_node_def_name (from tensorflow.python.framework.graph_util_impl) is deprecated and will be removed in a future version.\n",
      "Instructions for updating:\n",
      "Use `tf.compat.v1.graph_util.tensor_shape_from_node_def_name`\n",
      "FLOPs of tensorflow 1.12.0: 7110113\n"
     ]
    }
   ],
   "source": [
    "import tensorflow as tf\n",
    "import tensorflow.keras.backend as K\n",
    "\n",
    "def get_flops(model):\n",
    "    run_meta = tf.RunMetadata()\n",
    "    opts = tf.profiler.ProfileOptionBuilder.float_operation()\n",
    "\n",
    "    flops = tf.profiler.profile(graph=K.get_session().graph,\n",
    "                                run_meta=run_meta, cmd='op', options=opts)\n",
    " \n",
    "    return flops.total_float_ops\n",
    "\n",
    "if __name__ == \"__main__\":\n",
    "    x = K.random_normal(shape=(1, 1, 100, 256))\n",
    "    model = ShuffleNet_V2(x.shape)\n",
    "    print('FLOPs of tensorflow 1.12.0:', get_flops(model))\n"
   ]
  },
  {
   "cell_type": "code",
   "execution_count": null,
   "metadata": {},
   "outputs": [],
   "source": []
  }
 ],
 "metadata": {
  "kernelspec": {
   "display_name": "Python 3 (ipykernel)",
   "language": "python",
   "name": "python3"
  },
  "language_info": {
   "codemirror_mode": {
    "name": "ipython",
    "version": 3
   },
   "file_extension": ".py",
   "mimetype": "text/x-python",
   "name": "python",
   "nbconvert_exporter": "python",
   "pygments_lexer": "ipython3",
   "version": "3.9.13"
  }
 },
 "nbformat": 4,
 "nbformat_minor": 2
}
